{
 "cells": [
  {
   "cell_type": "code",
   "execution_count": 1,
   "id": "0a2dd26d",
   "metadata": {},
   "outputs": [],
   "source": [
    "import pandas as pd\n",
    "import numpy as np\n",
    "import matplotlib.pyplot as plt"
   ]
  },
  {
   "cell_type": "code",
   "execution_count": 2,
   "id": "c3958890",
   "metadata": {},
   "outputs": [
    {
     "data": {
      "text/html": [
       "<div>\n",
       "<style scoped>\n",
       "    .dataframe tbody tr th:only-of-type {\n",
       "        vertical-align: middle;\n",
       "    }\n",
       "\n",
       "    .dataframe tbody tr th {\n",
       "        vertical-align: top;\n",
       "    }\n",
       "\n",
       "    .dataframe thead th {\n",
       "        text-align: right;\n",
       "    }\n",
       "</style>\n",
       "<table border=\"1\" class=\"dataframe\">\n",
       "  <thead>\n",
       "    <tr style=\"text-align: right;\">\n",
       "      <th></th>\n",
       "      <th>Station code</th>\n",
       "      <th>Station name</th>\n",
       "      <th>Year</th>\n",
       "      <th>Month</th>\n",
       "      <th>Month average temperature [°C]</th>\n",
       "      <th>temperature measurement status</th>\n",
       "      <th>Average monthly relative humidity [%]</th>\n",
       "      <th>WLGS measurement</th>\n",
       "      <th>Average monthly wind speed [m/s]</th>\n",
       "      <th>FWS measurement</th>\n",
       "      <th>Average monthly general cloud cover [octants]</th>\n",
       "      <th>NOS measurement</th>\n",
       "    </tr>\n",
       "  </thead>\n",
       "  <tbody>\n",
       "    <tr>\n",
       "      <th>0</th>\n",
       "      <td>249180010</td>\n",
       "      <td>PSZCZYNA</td>\n",
       "      <td>2001</td>\n",
       "      <td>2</td>\n",
       "      <td>0.0</td>\n",
       "      <td>NaN</td>\n",
       "      <td>0.0</td>\n",
       "      <td>8.0</td>\n",
       "      <td>1.6</td>\n",
       "      <td>NaN</td>\n",
       "      <td>4.6</td>\n",
       "      <td>NaN</td>\n",
       "    </tr>\n",
       "    <tr>\n",
       "      <th>1</th>\n",
       "      <td>249180010</td>\n",
       "      <td>PSZCZYNA</td>\n",
       "      <td>2001</td>\n",
       "      <td>3</td>\n",
       "      <td>3.3</td>\n",
       "      <td>NaN</td>\n",
       "      <td>0.0</td>\n",
       "      <td>8.0</td>\n",
       "      <td>1.7</td>\n",
       "      <td>NaN</td>\n",
       "      <td>5.6</td>\n",
       "      <td>NaN</td>\n",
       "    </tr>\n",
       "    <tr>\n",
       "      <th>2</th>\n",
       "      <td>249180010</td>\n",
       "      <td>PSZCZYNA</td>\n",
       "      <td>2001</td>\n",
       "      <td>4</td>\n",
       "      <td>7.5</td>\n",
       "      <td>NaN</td>\n",
       "      <td>0.0</td>\n",
       "      <td>8.0</td>\n",
       "      <td>1.3</td>\n",
       "      <td>NaN</td>\n",
       "      <td>5.7</td>\n",
       "      <td>NaN</td>\n",
       "    </tr>\n",
       "    <tr>\n",
       "      <th>3</th>\n",
       "      <td>249180010</td>\n",
       "      <td>PSZCZYNA</td>\n",
       "      <td>2001</td>\n",
       "      <td>5</td>\n",
       "      <td>14.6</td>\n",
       "      <td>NaN</td>\n",
       "      <td>0.0</td>\n",
       "      <td>8.0</td>\n",
       "      <td>1.4</td>\n",
       "      <td>NaN</td>\n",
       "      <td>3.9</td>\n",
       "      <td>NaN</td>\n",
       "    </tr>\n",
       "    <tr>\n",
       "      <th>4</th>\n",
       "      <td>249180010</td>\n",
       "      <td>PSZCZYNA</td>\n",
       "      <td>2001</td>\n",
       "      <td>6</td>\n",
       "      <td>14.7</td>\n",
       "      <td>NaN</td>\n",
       "      <td>0.0</td>\n",
       "      <td>8.0</td>\n",
       "      <td>1.0</td>\n",
       "      <td>NaN</td>\n",
       "      <td>5.4</td>\n",
       "      <td>NaN</td>\n",
       "    </tr>\n",
       "    <tr>\n",
       "      <th>...</th>\n",
       "      <td>...</td>\n",
       "      <td>...</td>\n",
       "      <td>...</td>\n",
       "      <td>...</td>\n",
       "      <td>...</td>\n",
       "      <td>...</td>\n",
       "      <td>...</td>\n",
       "      <td>...</td>\n",
       "      <td>...</td>\n",
       "      <td>...</td>\n",
       "      <td>...</td>\n",
       "      <td>...</td>\n",
       "    </tr>\n",
       "    <tr>\n",
       "      <th>1897</th>\n",
       "      <td>349220695</td>\n",
       "      <td>PRZEMYL</td>\n",
       "      <td>2001</td>\n",
       "      <td>2</td>\n",
       "      <td>-0.2</td>\n",
       "      <td>NaN</td>\n",
       "      <td>80.4</td>\n",
       "      <td>NaN</td>\n",
       "      <td>4.5</td>\n",
       "      <td>NaN</td>\n",
       "      <td>5.7</td>\n",
       "      <td>NaN</td>\n",
       "    </tr>\n",
       "    <tr>\n",
       "      <th>1898</th>\n",
       "      <td>349220695</td>\n",
       "      <td>PRZEMYL</td>\n",
       "      <td>2001</td>\n",
       "      <td>3</td>\n",
       "      <td>3.6</td>\n",
       "      <td>NaN</td>\n",
       "      <td>78.0</td>\n",
       "      <td>NaN</td>\n",
       "      <td>3.8</td>\n",
       "      <td>NaN</td>\n",
       "      <td>6.2</td>\n",
       "      <td>NaN</td>\n",
       "    </tr>\n",
       "    <tr>\n",
       "      <th>1899</th>\n",
       "      <td>349220695</td>\n",
       "      <td>PRZEMYL</td>\n",
       "      <td>2001</td>\n",
       "      <td>4</td>\n",
       "      <td>8.6</td>\n",
       "      <td>NaN</td>\n",
       "      <td>72.3</td>\n",
       "      <td>NaN</td>\n",
       "      <td>3.0</td>\n",
       "      <td>NaN</td>\n",
       "      <td>5.7</td>\n",
       "      <td>NaN</td>\n",
       "    </tr>\n",
       "    <tr>\n",
       "      <th>1900</th>\n",
       "      <td>349220695</td>\n",
       "      <td>PRZEMYL</td>\n",
       "      <td>2001</td>\n",
       "      <td>5</td>\n",
       "      <td>14.7</td>\n",
       "      <td>NaN</td>\n",
       "      <td>61.2</td>\n",
       "      <td>NaN</td>\n",
       "      <td>3.8</td>\n",
       "      <td>NaN</td>\n",
       "      <td>4.3</td>\n",
       "      <td>NaN</td>\n",
       "    </tr>\n",
       "    <tr>\n",
       "      <th>1901</th>\n",
       "      <td>349220695</td>\n",
       "      <td>PRZEMYL</td>\n",
       "      <td>2001</td>\n",
       "      <td>6</td>\n",
       "      <td>15.2</td>\n",
       "      <td>NaN</td>\n",
       "      <td>77.2</td>\n",
       "      <td>NaN</td>\n",
       "      <td>3.4</td>\n",
       "      <td>NaN</td>\n",
       "      <td>6.1</td>\n",
       "      <td>NaN</td>\n",
       "    </tr>\n",
       "  </tbody>\n",
       "</table>\n",
       "<p>1902 rows × 12 columns</p>\n",
       "</div>"
      ],
      "text/plain": [
       "      Station code Station name  Year  Month  Month average temperature [°C]  \\\n",
       "0        249180010     PSZCZYNA  2001      2                             0.0   \n",
       "1        249180010     PSZCZYNA  2001      3                             3.3   \n",
       "2        249180010     PSZCZYNA  2001      4                             7.5   \n",
       "3        249180010     PSZCZYNA  2001      5                            14.6   \n",
       "4        249180010     PSZCZYNA  2001      6                            14.7   \n",
       "...            ...          ...   ...    ...                             ...   \n",
       "1897     349220695     PRZEMYL  2001      2                            -0.2   \n",
       "1898     349220695     PRZEMYL  2001      3                             3.6   \n",
       "1899     349220695     PRZEMYL  2001      4                             8.6   \n",
       "1900     349220695     PRZEMYL  2001      5                            14.7   \n",
       "1901     349220695     PRZEMYL  2001      6                            15.2   \n",
       "\n",
       "      temperature measurement status  Average monthly relative humidity [%]  \\\n",
       "0                                NaN                                    0.0   \n",
       "1                                NaN                                    0.0   \n",
       "2                                NaN                                    0.0   \n",
       "3                                NaN                                    0.0   \n",
       "4                                NaN                                    0.0   \n",
       "...                              ...                                    ...   \n",
       "1897                             NaN                                   80.4   \n",
       "1898                             NaN                                   78.0   \n",
       "1899                             NaN                                   72.3   \n",
       "1900                             NaN                                   61.2   \n",
       "1901                             NaN                                   77.2   \n",
       "\n",
       "      WLGS measurement  Average monthly wind speed [m/s]  FWS measurement  \\\n",
       "0                  8.0                               1.6              NaN   \n",
       "1                  8.0                               1.7              NaN   \n",
       "2                  8.0                               1.3              NaN   \n",
       "3                  8.0                               1.4              NaN   \n",
       "4                  8.0                               1.0              NaN   \n",
       "...                ...                               ...              ...   \n",
       "1897               NaN                               4.5              NaN   \n",
       "1898               NaN                               3.8              NaN   \n",
       "1899               NaN                               3.0              NaN   \n",
       "1900               NaN                               3.8              NaN   \n",
       "1901               NaN                               3.4              NaN   \n",
       "\n",
       "      Average monthly general cloud cover [octants]  NOS measurement  \n",
       "0                                               4.6              NaN  \n",
       "1                                               5.6              NaN  \n",
       "2                                               5.7              NaN  \n",
       "3                                               3.9              NaN  \n",
       "4                                               5.4              NaN  \n",
       "...                                             ...              ...  \n",
       "1897                                            5.7              NaN  \n",
       "1898                                            6.2              NaN  \n",
       "1899                                            5.7              NaN  \n",
       "1900                                            4.3              NaN  \n",
       "1901                                            6.1              NaN  \n",
       "\n",
       "[1902 rows x 12 columns]"
      ]
     },
     "execution_count": 2,
     "metadata": {},
     "output_type": "execute_result"
    }
   ],
   "source": [
    "meteo01 = pd.read_csv('./Meteo_Data/k_m_t_2001.csv',encoding = 'unicode_escape',header=0,names = ['Station code','Station name','Year','Month','Month average temperature [°C]','temperature measurement status','Average monthly relative humidity [%]','WLGS measurement','Average monthly wind speed [m/s]','FWS measurement','Average monthly general cloud cover [octants]','NOS measurement'])\n",
    "meteo01"
   ]
  },
  {
   "cell_type": "code",
   "execution_count": 3,
   "id": "e956cc9f",
   "metadata": {},
   "outputs": [
    {
     "name": "stdout",
     "output_type": "stream",
     "text": [
      "19.5\n",
      "9.063636363636364\n",
      "-4.6\n"
     ]
    }
   ],
   "source": [
    "meteo01_PSZCZYNA = meteo01[meteo01['Station name'] =='PSZCZYNA']\n",
    "max01_PSZCZYNA = meteo01_PSZCZYNA['Month average temperature [°C]'].max()\n",
    "avg01_PSZCZYNA = meteo01_PSZCZYNA['Month average temperature [°C]'].mean()\n",
    "min01_PSZCZYNA = meteo01_PSZCZYNA['Month average temperature [°C]'].min()\n",
    "print(max01_PSZCZYNA)\n",
    "print(avg01_PSZCZYNA)\n",
    "print(min01_PSZCZYNA)\n"
   ]
  },
  {
   "cell_type": "code",
   "execution_count": 4,
   "id": "a84d7c74",
   "metadata": {},
   "outputs": [
    {
     "name": "stdout",
     "output_type": "stream",
     "text": [
      "19.8\n",
      "9.945454545454545\n",
      "-5.2\n"
     ]
    }
   ],
   "source": [
    "meteo02 = pd.read_csv('./Meteo_Data/k_m_t_2002.csv',encoding = 'unicode_escape',header=0,names = ['Station code','Station name','Year','Month','Month average temperature [°C]','temperature measurement status','Average monthly relative humidity [%]','WLGS measurement','Average monthly wind speed [m/s]','FWS measurement','Average monthly general cloud cover [octants]','NOS measurement'])\n",
    "meteo02_PSZCZYNA = meteo02[meteo02['Station name'] =='PSZCZYNA']\n",
    "max02_PSZCZYNA = meteo02_PSZCZYNA['Month average temperature [°C]'].max()\n",
    "avg02_PSZCZYNA = meteo02_PSZCZYNA['Month average temperature [°C]'].mean()\n",
    "min02_PSZCZYNA = meteo02_PSZCZYNA['Month average temperature [°C]'].min()\n",
    "print(max02_PSZCZYNA)\n",
    "print(avg02_PSZCZYNA)\n",
    "print(min02_PSZCZYNA)"
   ]
  },
  {
   "cell_type": "code",
   "execution_count": 5,
   "id": "04f55738",
   "metadata": {},
   "outputs": [
    {
     "name": "stdout",
     "output_type": "stream",
     "text": [
      "19.8\n",
      "9.263636363636364\n",
      "-5.2\n"
     ]
    }
   ],
   "source": [
    "meteo03 = pd.read_csv('./Meteo_Data/k_m_t_2003.csv',encoding = 'unicode_escape',header=0,names = ['Station code','Station name','Year','Month','Month average temperature [°C]','temperature measurement status','Average monthly relative humidity [%]','WLGS measurement','Average monthly wind speed [m/s]','FWS measurement','Average monthly general cloud cover [octants]','NOS measurement'])\n",
    "meteo03_PSZCZYNA = meteo03[meteo03['Station name'] =='PSZCZYNA']\n",
    "max03_PSZCZYNA = meteo03_PSZCZYNA['Month average temperature [°C]'].max()\n",
    "avg03_PSZCZYNA = meteo03_PSZCZYNA['Month average temperature [°C]'].mean()\n",
    "min03_PSZCZYNA = meteo03_PSZCZYNA['Month average temperature [°C]'].min()\n",
    "print(max03_PSZCZYNA)\n",
    "print(avg03_PSZCZYNA)\n",
    "print(min03_PSZCZYNA)"
   ]
  },
  {
   "cell_type": "code",
   "execution_count": 6,
   "id": "fba5ea10",
   "metadata": {},
   "outputs": [
    {
     "name": "stdout",
     "output_type": "stream",
     "text": [
      "18.8\n",
      "9.754545454545454\n",
      "0.3\n"
     ]
    }
   ],
   "source": [
    "meteo04 = pd.read_csv('./Meteo_Data/k_m_t_2004.csv',encoding = 'unicode_escape',header=0,names = ['Station code','Station name','Year','Month','Month average temperature [°C]','temperature measurement status','Average monthly relative humidity [%]','WLGS measurement','Average monthly wind speed [m/s]','FWS measurement','Average monthly general cloud cover [octants]','NOS measurement'])\n",
    "meteo04_PSZCZYNA = meteo04[meteo04['Station name'] =='PSZCZYNA']\n",
    "max04_PSZCZYNA = meteo04_PSZCZYNA['Month average temperature [°C]'].max()\n",
    "avg04_PSZCZYNA = meteo04_PSZCZYNA['Month average temperature [°C]'].mean()\n",
    "min04_PSZCZYNA = meteo04_PSZCZYNA['Month average temperature [°C]'].min()\n",
    "print(max04_PSZCZYNA)\n",
    "print(avg04_PSZCZYNA)\n",
    "print(min04_PSZCZYNA)"
   ]
  },
  {
   "cell_type": "code",
   "execution_count": 7,
   "id": "c5bf5693",
   "metadata": {},
   "outputs": [
    {
     "name": "stdout",
     "output_type": "stream",
     "text": [
      "19.3\n",
      "8.745454545454544\n",
      "-3.6\n"
     ]
    }
   ],
   "source": [
    "meteo05 = pd.read_csv('./Meteo_Data/k_m_t_2005.csv',encoding = 'unicode_escape',header=0,names = ['Station code','Station name','Year','Month','Month average temperature [°C]','temperature measurement status','Average monthly relative humidity [%]','WLGS measurement','Average monthly wind speed [m/s]','FWS measurement','Average monthly general cloud cover [octants]','NOS measurement'])\n",
    "meteo05_PSZCZYNA = meteo05[meteo05['Station name'] =='PSZCZYNA']\n",
    "max05_PSZCZYNA = meteo05_PSZCZYNA['Month average temperature [°C]'].max()\n",
    "avg05_PSZCZYNA = meteo05_PSZCZYNA['Month average temperature [°C]'].mean()\n",
    "min05_PSZCZYNA = meteo05_PSZCZYNA['Month average temperature [°C]'].min()\n",
    "print(max05_PSZCZYNA)\n",
    "print(avg05_PSZCZYNA)\n",
    "print(min05_PSZCZYNA)"
   ]
  },
  {
   "cell_type": "code",
   "execution_count": 8,
   "id": "eaf4d081",
   "metadata": {},
   "outputs": [
    {
     "name": "stdout",
     "output_type": "stream",
     "text": [
      "21.6\n",
      "10.036363636363635\n",
      "-3.2\n"
     ]
    }
   ],
   "source": [
    "meteo06 = pd.read_csv('./Meteo_Data/k_m_t_2006.csv',encoding = 'unicode_escape',header=0,names = ['Station code','Station name','Year','Month','Month average temperature [°C]','temperature measurement status','Average monthly relative humidity [%]','WLGS measurement','Average monthly wind speed [m/s]','FWS measurement','Average monthly general cloud cover [octants]','NOS measurement'])\n",
    "meteo06_PSZCZYNA = meteo06[meteo06['Station name'] =='PSZCZYNA']\n",
    "max06_PSZCZYNA = meteo06_PSZCZYNA['Month average temperature [°C]'].max()\n",
    "avg06_PSZCZYNA = meteo06_PSZCZYNA['Month average temperature [°C]'].mean()\n",
    "min06_PSZCZYNA = meteo06_PSZCZYNA['Month average temperature [°C]'].min()\n",
    "print(max06_PSZCZYNA)\n",
    "print(avg06_PSZCZYNA)\n",
    "print(min06_PSZCZYNA)"
   ]
  },
  {
   "cell_type": "code",
   "execution_count": 9,
   "id": "52d021b1",
   "metadata": {},
   "outputs": [
    {
     "name": "stdout",
     "output_type": "stream",
     "text": [
      "19.2\n",
      "9.881818181818181\n",
      "-0.7\n"
     ]
    }
   ],
   "source": [
    "meteo07 = pd.read_csv('./Meteo_Data/k_m_t_2007.csv',encoding = 'unicode_escape',header=0,names = ['Station code','Station name','Year','Month','Month average temperature [°C]','temperature measurement status','Average monthly relative humidity [%]','WLGS measurement','Average monthly wind speed [m/s]','FWS measurement','Average monthly general cloud cover [octants]','NOS measurement'])\n",
    "meteo07_PSZCZYNA = meteo07[meteo07['Station name'] =='PSZCZYNA']\n",
    "max07_PSZCZYNA = meteo07_PSZCZYNA['Month average temperature [°C]'].max()\n",
    "avg07_PSZCZYNA = meteo07_PSZCZYNA['Month average temperature [°C]'].mean()\n",
    "min07_PSZCZYNA = meteo07_PSZCZYNA['Month average temperature [°C]'].min()\n",
    "print(max07_PSZCZYNA)\n",
    "print(avg07_PSZCZYNA)\n",
    "print(min07_PSZCZYNA)"
   ]
  },
  {
   "cell_type": "code",
   "execution_count": 10,
   "id": "484b82e4",
   "metadata": {},
   "outputs": [
    {
     "name": "stdout",
     "output_type": "stream",
     "text": [
      "18.7\n",
      "10.245454545454544\n",
      "1.1\n"
     ]
    }
   ],
   "source": [
    "meteo08 = pd.read_csv('./Meteo_Data/k_m_t_2008.csv',encoding = 'unicode_escape',header=0,names = ['Station code','Station name','Year','Month','Month average temperature [°C]','temperature measurement status','Average monthly relative humidity [%]','WLGS measurement','Average monthly wind speed [m/s]','FWS measurement','Average monthly general cloud cover [octants]','NOS measurement'])\n",
    "meteo08_PSZCZYNA = meteo08[meteo08['Station name'] =='PSZCZYNA']\n",
    "max08_PSZCZYNA = meteo08_PSZCZYNA['Month average temperature [°C]'].max()\n",
    "avg08_PSZCZYNA = meteo08_PSZCZYNA['Month average temperature [°C]'].mean()\n",
    "min08_PSZCZYNA = meteo08_PSZCZYNA['Month average temperature [°C]'].min()\n",
    "print(max08_PSZCZYNA)\n",
    "print(avg08_PSZCZYNA)\n",
    "print(min08_PSZCZYNA)"
   ]
  },
  {
   "cell_type": "code",
   "execution_count": 11,
   "id": "b573355f",
   "metadata": {},
   "outputs": [
    {
     "name": "stdout",
     "output_type": "stream",
     "text": [
      "19.8\n",
      "9.909090909090908\n",
      "-1.3\n"
     ]
    }
   ],
   "source": [
    "meteo09 = pd.read_csv('./Meteo_Data/k_m_t_2009.csv',encoding = 'unicode_escape',header=0,names = ['Station code','Station name','Year','Month','Month average temperature [°C]','temperature measurement status','Average monthly relative humidity [%]','WLGS measurement','Average monthly wind speed [m/s]','FWS measurement','Average monthly general cloud cover [octants]','NOS measurement'])\n",
    "meteo09_PSZCZYNA = meteo09[meteo09['Station name'] =='PSZCZYNA']\n",
    "max09_PSZCZYNA = meteo09_PSZCZYNA['Month average temperature [°C]'].max()\n",
    "avg09_PSZCZYNA = meteo09_PSZCZYNA['Month average temperature [°C]'].mean()\n",
    "min09_PSZCZYNA = meteo09_PSZCZYNA['Month average temperature [°C]'].min()\n",
    "print(max09_PSZCZYNA)\n",
    "print(avg09_PSZCZYNA)\n",
    "print(min09_PSZCZYNA)"
   ]
  },
  {
   "cell_type": "code",
   "execution_count": 12,
   "id": "bd573268",
   "metadata": {},
   "outputs": [
    {
     "name": "stdout",
     "output_type": "stream",
     "text": [
      "20.2\n",
      "8.763636363636364\n",
      "-5.1\n"
     ]
    }
   ],
   "source": [
    "meteo10 = pd.read_csv('./Meteo_Data/k_m_t_2010.csv',encoding = 'unicode_escape',header=0,names = ['Station code','Station name','Year','Month','Month average temperature [°C]','temperature measurement status','Average monthly relative humidity [%]','WLGS measurement','Average monthly wind speed [m/s]','FWS measurement','Average monthly general cloud cover [octants]','NOS measurement'])\n",
    "meteo10_PSZCZYNA = meteo10[meteo10['Station name'] =='PSZCZYNA']\n",
    "max10_PSZCZYNA = meteo10_PSZCZYNA['Month average temperature [°C]'].max()\n",
    "avg10_PSZCZYNA = meteo10_PSZCZYNA['Month average temperature [°C]'].mean()\n",
    "min10_PSZCZYNA = meteo10_PSZCZYNA['Month average temperature [°C]'].min()\n",
    "print(max10_PSZCZYNA)\n",
    "print(avg10_PSZCZYNA)\n",
    "print(min10_PSZCZYNA)"
   ]
  },
  {
   "cell_type": "code",
   "execution_count": 13,
   "id": "0692e388",
   "metadata": {},
   "outputs": [
    {
     "name": "stdout",
     "output_type": "stream",
     "text": [
      "19.2\n",
      "9.909090909090908\n",
      "-2.5\n"
     ]
    }
   ],
   "source": [
    "meteo11 = pd.read_csv('./Meteo_Data/k_m_t_2011.csv',encoding = 'unicode_escape',header=0,names = ['Station code','Station name','Year','Month','Month average temperature [°C]','temperature measurement status','Average monthly relative humidity [%]','WLGS measurement','Average monthly wind speed [m/s]','FWS measurement','Average monthly general cloud cover [octants]','NOS measurement'])\n",
    "meteo11_PSZCZYNA = meteo11[meteo11['Station name'] =='PSZCZYNA']\n",
    "max11_PSZCZYNA = meteo11_PSZCZYNA['Month average temperature [°C]'].max()\n",
    "avg11_PSZCZYNA = meteo11_PSZCZYNA['Month average temperature [°C]'].mean()\n",
    "min11_PSZCZYNA = meteo11_PSZCZYNA['Month average temperature [°C]'].min()\n",
    "print(max11_PSZCZYNA)\n",
    "print(avg11_PSZCZYNA)\n",
    "print(min11_PSZCZYNA)"
   ]
  },
  {
   "cell_type": "code",
   "execution_count": 14,
   "id": "c163dbfd",
   "metadata": {},
   "outputs": [
    {
     "name": "stdout",
     "output_type": "stream",
     "text": [
      "20.2\n",
      "9.572727272727274\n",
      "-6.6\n"
     ]
    }
   ],
   "source": [
    "meteo12 = pd.read_csv('./Meteo_Data/k_m_t_2012.csv',encoding = 'unicode_escape',header=0,names = ['Station code','Station name','Year','Month','Month average temperature [°C]','temperature measurement status','Average monthly relative humidity [%]','WLGS measurement','Average monthly wind speed [m/s]','FWS measurement','Average monthly general cloud cover [octants]','NOS measurement'])\n",
    "meteo12_PSZCZYNA = meteo12[meteo12['Station name'] =='PSZCZYNA']\n",
    "max12_PSZCZYNA = meteo12_PSZCZYNA['Month average temperature [°C]'].max()\n",
    "avg12_PSZCZYNA = meteo12_PSZCZYNA['Month average temperature [°C]'].mean()\n",
    "min12_PSZCZYNA = meteo12_PSZCZYNA['Month average temperature [°C]'].min()\n",
    "print(max12_PSZCZYNA)\n",
    "print(avg12_PSZCZYNA)\n",
    "print(min12_PSZCZYNA)"
   ]
  },
  {
   "cell_type": "code",
   "execution_count": 15,
   "id": "67a3fc55",
   "metadata": {},
   "outputs": [
    {
     "name": "stdout",
     "output_type": "stream",
     "text": [
      "19.5\n",
      "9.554545454545455\n",
      "-0.8\n"
     ]
    }
   ],
   "source": [
    "meteo13 = pd.read_csv('./Meteo_Data/k_m_t_2013.csv',encoding = 'unicode_escape',header=0,names = ['Station code','Station name','Year','Month','Month average temperature [°C]','temperature measurement status','Average monthly relative humidity [%]','WLGS measurement','Average monthly wind speed [m/s]','FWS measurement','Average monthly general cloud cover [octants]','NOS measurement'])\n",
    "meteo13_PSZCZYNA = meteo13[meteo13['Station name'] =='PSZCZYNA']\n",
    "max13_PSZCZYNA = meteo13_PSZCZYNA['Month average temperature [°C]'].max()\n",
    "avg13_PSZCZYNA = meteo13_PSZCZYNA['Month average temperature [°C]'].mean()\n",
    "min13_PSZCZYNA = meteo13_PSZCZYNA['Month average temperature [°C]'].min()\n",
    "print(max13_PSZCZYNA)\n",
    "print(avg13_PSZCZYNA)\n",
    "print(min13_PSZCZYNA)"
   ]
  },
  {
   "cell_type": "code",
   "execution_count": 16,
   "id": "330d9a14",
   "metadata": {},
   "outputs": [
    {
     "name": "stdout",
     "output_type": "stream",
     "text": [
      "19.8\n",
      "10.554545454545455\n",
      "0.8\n"
     ]
    }
   ],
   "source": [
    "meteo14 = pd.read_csv('./Meteo_Data/k_m_t_2014.csv',encoding = 'unicode_escape',header=0,names = ['Station code','Station name','Year','Month','Month average temperature [°C]','temperature measurement status','Average monthly relative humidity [%]','WLGS measurement','Average monthly wind speed [m/s]','FWS measurement','Average monthly general cloud cover [octants]','NOS measurement'])\n",
    "meteo14_PSZCZYNA = meteo14[meteo14['Station name'] =='PSZCZYNA']\n",
    "max14_PSZCZYNA = meteo14_PSZCZYNA['Month average temperature [°C]'].max()\n",
    "avg14_PSZCZYNA = meteo14_PSZCZYNA['Month average temperature [°C]'].mean()\n",
    "min14_PSZCZYNA = meteo14_PSZCZYNA['Month average temperature [°C]'].min()\n",
    "print(max14_PSZCZYNA)\n",
    "print(avg14_PSZCZYNA)\n",
    "print(min14_PSZCZYNA)"
   ]
  },
  {
   "cell_type": "code",
   "execution_count": 17,
   "id": "2a0f7f82",
   "metadata": {},
   "outputs": [
    {
     "name": "stdout",
     "output_type": "stream",
     "text": [
      "21.6\n",
      "10.50909090909091\n",
      "0.0\n"
     ]
    }
   ],
   "source": [
    "meteo15 = pd.read_csv('./Meteo_Data/k_m_t_2015.csv',encoding = 'unicode_escape',header=0,names = ['Station code','Station name','Year','Month','Month average temperature [°C]','temperature measurement status','Average monthly relative humidity [%]','WLGS measurement','Average monthly wind speed [m/s]','FWS measurement','Average monthly general cloud cover [octants]','NOS measurement'])\n",
    "meteo15_PSZCZYNA = meteo15[meteo15['Station name'] =='PSZCZYNA']\n",
    "max15_PSZCZYNA = meteo15_PSZCZYNA['Month average temperature [°C]'].max()\n",
    "avg15_PSZCZYNA = meteo15_PSZCZYNA['Month average temperature [°C]'].mean()\n",
    "min15_PSZCZYNA = meteo15_PSZCZYNA['Month average temperature [°C]'].min()\n",
    "print(max15_PSZCZYNA)\n",
    "print(avg15_PSZCZYNA)\n",
    "print(min15_PSZCZYNA)"
   ]
  },
  {
   "cell_type": "code",
   "execution_count": 18,
   "id": "2c9c2b50",
   "metadata": {},
   "outputs": [
    {
     "name": "stdout",
     "output_type": "stream",
     "text": [
      "19.1\n",
      "10.1\n",
      "-0.4\n"
     ]
    }
   ],
   "source": [
    "meteo16 = pd.read_csv('./Meteo_Data/k_m_t_2016.csv',encoding = 'unicode_escape',header=0,names = ['Station code','Station name','Year','Month','Month average temperature [°C]','temperature measurement status','Average monthly relative humidity [%]','WLGS measurement','Average monthly wind speed [m/s]','FWS measurement','Average monthly general cloud cover [octants]','NOS measurement'])\n",
    "meteo16_PSZCZYNA = meteo16[meteo16['Station name'] =='PSZCZYNA']\n",
    "max16_PSZCZYNA = meteo16_PSZCZYNA['Month average temperature [°C]'].max()\n",
    "avg16_PSZCZYNA = meteo16_PSZCZYNA['Month average temperature [°C]'].mean()\n",
    "min16_PSZCZYNA = meteo16_PSZCZYNA['Month average temperature [°C]'].min()\n",
    "print(max16_PSZCZYNA)\n",
    "print(avg16_PSZCZYNA)\n",
    "print(min16_PSZCZYNA)"
   ]
  },
  {
   "cell_type": "code",
   "execution_count": 19,
   "id": "98cb4db6",
   "metadata": {},
   "outputs": [
    {
     "name": "stdout",
     "output_type": "stream",
     "text": [
      "19.8\n",
      "10.472727272727273\n",
      "0.3\n"
     ]
    }
   ],
   "source": [
    "meteo17 = pd.read_csv('./Meteo_Data/k_m_t_2017.csv',encoding = 'unicode_escape',header=0,names = ['Station code','Station name','Year','Month','Month average temperature [°C]','temperature measurement status','Average monthly relative humidity [%]','WLGS measurement','Average monthly wind speed [m/s]','FWS measurement','Average monthly general cloud cover [octants]','NOS measurement'])\n",
    "meteo17_PSZCZYNA = meteo17[meteo17['Station name'] =='PSZCZYNA']\n",
    "max17_PSZCZYNA = meteo17_PSZCZYNA['Month average temperature [°C]'].max()\n",
    "avg17_PSZCZYNA = meteo17_PSZCZYNA['Month average temperature [°C]'].mean()\n",
    "min17_PSZCZYNA = meteo17_PSZCZYNA['Month average temperature [°C]'].min()\n",
    "print(max17_PSZCZYNA)\n",
    "print(avg17_PSZCZYNA)\n",
    "print(min17_PSZCZYNA)"
   ]
  },
  {
   "cell_type": "code",
   "execution_count": 20,
   "id": "87277c90",
   "metadata": {},
   "outputs": [
    {
     "name": "stdout",
     "output_type": "stream",
     "text": [
      "20.5\n",
      "10.681818181818182\n",
      "-3.3\n"
     ]
    }
   ],
   "source": [
    "meteo18 = pd.read_csv('./Meteo_Data/k_m_t_2018.csv',encoding = 'unicode_escape',header=0,names = ['Station code','Station name','Year','Month','Month average temperature [°C]','temperature measurement status','Average monthly relative humidity [%]','WLGS measurement','Average monthly wind speed [m/s]','FWS measurement','Average monthly general cloud cover [octants]','NOS measurement'])\n",
    "meteo18_PSZCZYNA = meteo18[meteo18['Station name'] =='PSZCZYNA']\n",
    "max18_PSZCZYNA = meteo18_PSZCZYNA['Month average temperature [°C]'].max()\n",
    "avg18_PSZCZYNA = meteo18_PSZCZYNA['Month average temperature [°C]'].mean()\n",
    "min18_PSZCZYNA = meteo18_PSZCZYNA['Month average temperature [°C]'].min()\n",
    "print(max18_PSZCZYNA)\n",
    "print(avg18_PSZCZYNA)\n",
    "print(min18_PSZCZYNA)"
   ]
  },
  {
   "cell_type": "code",
   "execution_count": 21,
   "id": "da20a0c9",
   "metadata": {},
   "outputs": [
    {
     "name": "stdout",
     "output_type": "stream",
     "text": [
      "21.5\n",
      "11.254545454545452\n",
      "2.8\n"
     ]
    }
   ],
   "source": [
    "meteo19 = pd.read_csv('./Meteo_Data/k_m_t_2019.csv',encoding = 'unicode_escape',header=0,names = ['Station code','Station name','Year','Month','Month average temperature [°C]','temperature measurement status','Average monthly relative humidity [%]','WLGS measurement','Average monthly wind speed [m/s]','FWS measurement','Average monthly general cloud cover [octants]','NOS measurement'])\n",
    "meteo19_PSZCZYNA = meteo19[meteo19['Station name'] =='PSZCZYNA']\n",
    "max19_PSZCZYNA = meteo19_PSZCZYNA['Month average temperature [°C]'].max()\n",
    "avg19_PSZCZYNA = meteo19_PSZCZYNA['Month average temperature [°C]'].mean()\n",
    "min19_PSZCZYNA = meteo19_PSZCZYNA['Month average temperature [°C]'].min()\n",
    "print(max19_PSZCZYNA)\n",
    "print(avg19_PSZCZYNA)\n",
    "print(min19_PSZCZYNA)"
   ]
  },
  {
   "cell_type": "code",
   "execution_count": 22,
   "id": "e4ce97a3",
   "metadata": {},
   "outputs": [
    {
     "name": "stdout",
     "output_type": "stream",
     "text": [
      "19.8\n",
      "10.490909090909092\n",
      "1.2\n"
     ]
    }
   ],
   "source": [
    "meteo20 = pd.read_csv('./Meteo_Data/k_m_t_2020.csv',encoding = 'unicode_escape',header=0,names = ['Station code','Station name','Year','Month','Month average temperature [°C]','temperature measurement status','Average monthly relative humidity [%]','WLGS measurement','Average monthly wind speed [m/s]','FWS measurement','Average monthly general cloud cover [octants]','NOS measurement'])\n",
    "meteo20_PSZCZYNA = meteo20[meteo20['Station name'] =='PSZCZYNA']\n",
    "max20_PSZCZYNA = meteo20_PSZCZYNA['Month average temperature [°C]'].max()\n",
    "avg20_PSZCZYNA = meteo20_PSZCZYNA['Month average temperature [°C]'].mean()\n",
    "min20_PSZCZYNA = meteo20_PSZCZYNA['Month average temperature [°C]'].min()\n",
    "print(max20_PSZCZYNA)\n",
    "print(avg20_PSZCZYNA)\n",
    "print(min20_PSZCZYNA)"
   ]
  },
  {
   "cell_type": "code",
   "execution_count": 23,
   "id": "5537af4f",
   "metadata": {},
   "outputs": [
    {
     "name": "stdout",
     "output_type": "stream",
     "text": [
      "20.7\n",
      "9.50909090909091\n",
      "-1.3\n"
     ]
    }
   ],
   "source": [
    "meteo21 = pd.read_csv('./Meteo_Data/k_m_t_2021.csv',encoding = 'unicode_escape',header=0,names = ['Station code','Station name','Year','Month','Month average temperature [°C]','temperature measurement status','Average monthly relative humidity [%]','WLGS measurement','Average monthly wind speed [m/s]','FWS measurement','Average monthly general cloud cover [octants]','NOS measurement'])\n",
    "meteo21_PSZCZYNA = meteo21[meteo21['Station name'] =='PSZCZYNA']\n",
    "max21_PSZCZYNA = meteo21_PSZCZYNA['Month average temperature [°C]'].max()\n",
    "avg21_PSZCZYNA = meteo21_PSZCZYNA['Month average temperature [°C]'].mean()\n",
    "min21_PSZCZYNA = meteo21_PSZCZYNA['Month average temperature [°C]'].min()\n",
    "print(max21_PSZCZYNA)\n",
    "print(avg21_PSZCZYNA)\n",
    "print(min21_PSZCZYNA)"
   ]
  },
  {
   "cell_type": "code",
   "execution_count": 24,
   "id": "9d7706f0",
   "metadata": {
    "scrolled": true
   },
   "outputs": [
    {
     "data": {
      "text/plain": [
       "{'Monthly mean tempereature': [9.063636363636364,\n",
       "  9.945454545454545,\n",
       "  9.263636363636364,\n",
       "  9.754545454545454,\n",
       "  8.745454545454544,\n",
       "  10.036363636363635,\n",
       "  9.881818181818181,\n",
       "  10.245454545454544,\n",
       "  9.909090909090908,\n",
       "  8.763636363636364,\n",
       "  9.909090909090908,\n",
       "  9.572727272727274,\n",
       "  9.554545454545455,\n",
       "  10.554545454545455,\n",
       "  10.50909090909091,\n",
       "  10.1,\n",
       "  10.472727272727273,\n",
       "  10.681818181818182,\n",
       "  11.254545454545452,\n",
       "  10.490909090909092,\n",
       "  9.50909090909091],\n",
       " 'Maximum of the mean month temperatures': [19.5,\n",
       "  19.8,\n",
       "  19.8,\n",
       "  18.8,\n",
       "  19.3,\n",
       "  21.6,\n",
       "  19.2,\n",
       "  18.7,\n",
       "  19.8,\n",
       "  20.2,\n",
       "  19.2,\n",
       "  20.2,\n",
       "  19.5,\n",
       "  19.8,\n",
       "  21.6,\n",
       "  19.1,\n",
       "  19.8,\n",
       "  20.5,\n",
       "  21.5,\n",
       "  19.8,\n",
       "  20.7],\n",
       " 'Minimum of the mean month temperatures': [-4.6,\n",
       "  -5.2,\n",
       "  -5.2,\n",
       "  0.3,\n",
       "  -3.6,\n",
       "  -3.2,\n",
       "  -0.7,\n",
       "  1.1,\n",
       "  -1.3,\n",
       "  -5.1,\n",
       "  -2.5,\n",
       "  -6.6,\n",
       "  -0.8,\n",
       "  0.8,\n",
       "  0.0,\n",
       "  -0.4,\n",
       "  0.3,\n",
       "  -3.3,\n",
       "  2.8,\n",
       "  1.2,\n",
       "  -1.3]}"
      ]
     },
     "execution_count": 24,
     "metadata": {},
     "output_type": "execute_result"
    }
   ],
   "source": [
    "dict_to_create_df = {'Monthly mean tempereature': [avg01_PSZCZYNA,avg02_PSZCZYNA,avg03_PSZCZYNA,avg04_PSZCZYNA,avg05_PSZCZYNA,avg06_PSZCZYNA,avg07_PSZCZYNA,avg08_PSZCZYNA,avg09_PSZCZYNA,avg10_PSZCZYNA,avg11_PSZCZYNA,avg12_PSZCZYNA,avg13_PSZCZYNA,avg14_PSZCZYNA,avg15_PSZCZYNA,avg16_PSZCZYNA,avg17_PSZCZYNA,avg18_PSZCZYNA,avg19_PSZCZYNA,avg20_PSZCZYNA,avg21_PSZCZYNA],'Maximum of the mean month temperatures': [max01_PSZCZYNA,max02_PSZCZYNA,max03_PSZCZYNA,max04_PSZCZYNA,max05_PSZCZYNA,max06_PSZCZYNA,max07_PSZCZYNA,max08_PSZCZYNA,max09_PSZCZYNA,max10_PSZCZYNA,max11_PSZCZYNA,max12_PSZCZYNA,max13_PSZCZYNA,max14_PSZCZYNA,max15_PSZCZYNA,max16_PSZCZYNA,max17_PSZCZYNA,max18_PSZCZYNA,max19_PSZCZYNA,max20_PSZCZYNA,max21_PSZCZYNA],'Minimum of the mean month temperatures':[min01_PSZCZYNA,min02_PSZCZYNA,min03_PSZCZYNA,min04_PSZCZYNA,min05_PSZCZYNA,min06_PSZCZYNA,min07_PSZCZYNA,min08_PSZCZYNA,min09_PSZCZYNA,min10_PSZCZYNA,min11_PSZCZYNA,min12_PSZCZYNA,min13_PSZCZYNA,min14_PSZCZYNA,min15_PSZCZYNA,min16_PSZCZYNA,min17_PSZCZYNA,min18_PSZCZYNA,min19_PSZCZYNA,min20_PSZCZYNA,min21_PSZCZYNA]}\n",
    "dict_to_create_df"
   ]
  },
  {
   "cell_type": "code",
   "execution_count": 25,
   "id": "411f09cf",
   "metadata": {},
   "outputs": [],
   "source": [
    "years = ([i for i in range (2001,2022)])"
   ]
  },
  {
   "cell_type": "code",
   "execution_count": 26,
   "id": "1b0bafc8",
   "metadata": {},
   "outputs": [
    {
     "data": {
      "text/html": [
       "<div>\n",
       "<style scoped>\n",
       "    .dataframe tbody tr th:only-of-type {\n",
       "        vertical-align: middle;\n",
       "    }\n",
       "\n",
       "    .dataframe tbody tr th {\n",
       "        vertical-align: top;\n",
       "    }\n",
       "\n",
       "    .dataframe thead th {\n",
       "        text-align: right;\n",
       "    }\n",
       "</style>\n",
       "<table border=\"1\" class=\"dataframe\">\n",
       "  <thead>\n",
       "    <tr style=\"text-align: right;\">\n",
       "      <th></th>\n",
       "      <th>Monthly mean tempereature</th>\n",
       "      <th>Maximum of the mean month temperatures</th>\n",
       "      <th>Minimum of the mean month temperatures</th>\n",
       "    </tr>\n",
       "  </thead>\n",
       "  <tbody>\n",
       "    <tr>\n",
       "      <th>2001</th>\n",
       "      <td>9.063636</td>\n",
       "      <td>19.5</td>\n",
       "      <td>-4.6</td>\n",
       "    </tr>\n",
       "    <tr>\n",
       "      <th>2002</th>\n",
       "      <td>9.945455</td>\n",
       "      <td>19.8</td>\n",
       "      <td>-5.2</td>\n",
       "    </tr>\n",
       "    <tr>\n",
       "      <th>2003</th>\n",
       "      <td>9.263636</td>\n",
       "      <td>19.8</td>\n",
       "      <td>-5.2</td>\n",
       "    </tr>\n",
       "    <tr>\n",
       "      <th>2004</th>\n",
       "      <td>9.754545</td>\n",
       "      <td>18.8</td>\n",
       "      <td>0.3</td>\n",
       "    </tr>\n",
       "    <tr>\n",
       "      <th>2005</th>\n",
       "      <td>8.745455</td>\n",
       "      <td>19.3</td>\n",
       "      <td>-3.6</td>\n",
       "    </tr>\n",
       "    <tr>\n",
       "      <th>2006</th>\n",
       "      <td>10.036364</td>\n",
       "      <td>21.6</td>\n",
       "      <td>-3.2</td>\n",
       "    </tr>\n",
       "    <tr>\n",
       "      <th>2007</th>\n",
       "      <td>9.881818</td>\n",
       "      <td>19.2</td>\n",
       "      <td>-0.7</td>\n",
       "    </tr>\n",
       "    <tr>\n",
       "      <th>2008</th>\n",
       "      <td>10.245455</td>\n",
       "      <td>18.7</td>\n",
       "      <td>1.1</td>\n",
       "    </tr>\n",
       "    <tr>\n",
       "      <th>2009</th>\n",
       "      <td>9.909091</td>\n",
       "      <td>19.8</td>\n",
       "      <td>-1.3</td>\n",
       "    </tr>\n",
       "    <tr>\n",
       "      <th>2010</th>\n",
       "      <td>8.763636</td>\n",
       "      <td>20.2</td>\n",
       "      <td>-5.1</td>\n",
       "    </tr>\n",
       "    <tr>\n",
       "      <th>2011</th>\n",
       "      <td>9.909091</td>\n",
       "      <td>19.2</td>\n",
       "      <td>-2.5</td>\n",
       "    </tr>\n",
       "    <tr>\n",
       "      <th>2012</th>\n",
       "      <td>9.572727</td>\n",
       "      <td>20.2</td>\n",
       "      <td>-6.6</td>\n",
       "    </tr>\n",
       "    <tr>\n",
       "      <th>2013</th>\n",
       "      <td>9.554545</td>\n",
       "      <td>19.5</td>\n",
       "      <td>-0.8</td>\n",
       "    </tr>\n",
       "    <tr>\n",
       "      <th>2014</th>\n",
       "      <td>10.554545</td>\n",
       "      <td>19.8</td>\n",
       "      <td>0.8</td>\n",
       "    </tr>\n",
       "    <tr>\n",
       "      <th>2015</th>\n",
       "      <td>10.509091</td>\n",
       "      <td>21.6</td>\n",
       "      <td>0.0</td>\n",
       "    </tr>\n",
       "    <tr>\n",
       "      <th>2016</th>\n",
       "      <td>10.100000</td>\n",
       "      <td>19.1</td>\n",
       "      <td>-0.4</td>\n",
       "    </tr>\n",
       "    <tr>\n",
       "      <th>2017</th>\n",
       "      <td>10.472727</td>\n",
       "      <td>19.8</td>\n",
       "      <td>0.3</td>\n",
       "    </tr>\n",
       "    <tr>\n",
       "      <th>2018</th>\n",
       "      <td>10.681818</td>\n",
       "      <td>20.5</td>\n",
       "      <td>-3.3</td>\n",
       "    </tr>\n",
       "    <tr>\n",
       "      <th>2019</th>\n",
       "      <td>11.254545</td>\n",
       "      <td>21.5</td>\n",
       "      <td>2.8</td>\n",
       "    </tr>\n",
       "    <tr>\n",
       "      <th>2020</th>\n",
       "      <td>10.490909</td>\n",
       "      <td>19.8</td>\n",
       "      <td>1.2</td>\n",
       "    </tr>\n",
       "    <tr>\n",
       "      <th>2021</th>\n",
       "      <td>9.509091</td>\n",
       "      <td>20.7</td>\n",
       "      <td>-1.3</td>\n",
       "    </tr>\n",
       "  </tbody>\n",
       "</table>\n",
       "</div>"
      ],
      "text/plain": [
       "      Monthly mean tempereature  Maximum of the mean month temperatures  \\\n",
       "2001                   9.063636                                    19.5   \n",
       "2002                   9.945455                                    19.8   \n",
       "2003                   9.263636                                    19.8   \n",
       "2004                   9.754545                                    18.8   \n",
       "2005                   8.745455                                    19.3   \n",
       "2006                  10.036364                                    21.6   \n",
       "2007                   9.881818                                    19.2   \n",
       "2008                  10.245455                                    18.7   \n",
       "2009                   9.909091                                    19.8   \n",
       "2010                   8.763636                                    20.2   \n",
       "2011                   9.909091                                    19.2   \n",
       "2012                   9.572727                                    20.2   \n",
       "2013                   9.554545                                    19.5   \n",
       "2014                  10.554545                                    19.8   \n",
       "2015                  10.509091                                    21.6   \n",
       "2016                  10.100000                                    19.1   \n",
       "2017                  10.472727                                    19.8   \n",
       "2018                  10.681818                                    20.5   \n",
       "2019                  11.254545                                    21.5   \n",
       "2020                  10.490909                                    19.8   \n",
       "2021                   9.509091                                    20.7   \n",
       "\n",
       "      Minimum of the mean month temperatures  \n",
       "2001                                    -4.6  \n",
       "2002                                    -5.2  \n",
       "2003                                    -5.2  \n",
       "2004                                     0.3  \n",
       "2005                                    -3.6  \n",
       "2006                                    -3.2  \n",
       "2007                                    -0.7  \n",
       "2008                                     1.1  \n",
       "2009                                    -1.3  \n",
       "2010                                    -5.1  \n",
       "2011                                    -2.5  \n",
       "2012                                    -6.6  \n",
       "2013                                    -0.8  \n",
       "2014                                     0.8  \n",
       "2015                                     0.0  \n",
       "2016                                    -0.4  \n",
       "2017                                     0.3  \n",
       "2018                                    -3.3  \n",
       "2019                                     2.8  \n",
       "2020                                     1.2  \n",
       "2021                                    -1.3  "
      ]
     },
     "execution_count": 26,
     "metadata": {},
     "output_type": "execute_result"
    }
   ],
   "source": [
    "df = pd.DataFrame(dict_to_create_df,index=years)\n",
    "df"
   ]
  },
  {
   "cell_type": "code",
   "execution_count": 27,
   "id": "591f2432",
   "metadata": {},
   "outputs": [
    {
     "data": {
      "text/plain": [
       "<AxesSubplot:title={'center':'Temperature in Pszczyna in 2001-2021 years'}, xlabel='Years', ylabel='Temperature'>"
      ]
     },
     "execution_count": 27,
     "metadata": {},
     "output_type": "execute_result"
    },
    {
     "data": {
      "image/png": "[encoded data removed]",
      "text/plain": [
       "<Figure size 1440x576 with 1 Axes>"
      ]
     },
     "metadata": {},
     "output_type": "display_data"
    }
   ],
   "source": [
    "plt.style.use('seaborn-whitegrid')\n",
    "df.plot(figsize=(20,8),title='Temperature in Pszczyna in 2001-2021 years',xlabel = 'Years',ylabel='Temperature',xticks=range(2001,2022))"
   ]
  },
  {
   "cell_type": "code",
   "execution_count": null,
   "id": "953eddfe",
   "metadata": {},
   "outputs": [],
   "source": []
  }
 ],
 "metadata": {
  "kernelspec": {
   "display_name": "Python 3 (ipykernel)",
   "language": "python",
   "name": "python3"
  },
  "language_info": {
   "codemirror_mode": {
    "name": "ipython",
    "version": 3
   },
   "file_extension": ".py",
   "mimetype": "text/x-python",
   "name": "python",
   "nbconvert_exporter": "python",
   "pygments_lexer": "ipython3",
   "version": "3.9.7"
  }
 },
 "nbformat": 4,
 "nbformat_minor": 5
}
