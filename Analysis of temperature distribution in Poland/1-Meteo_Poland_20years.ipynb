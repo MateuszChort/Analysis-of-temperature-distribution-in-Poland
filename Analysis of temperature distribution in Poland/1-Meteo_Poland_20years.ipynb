{
 "cells": [
  {
   "cell_type": "code",
   "execution_count": 1,
   "id": "d6958f91",
   "metadata": {},
   "outputs": [],
   "source": [
    "import pandas as pd\n",
    "import numpy as np\n",
    "import matplotlib.pyplot as plt"
   ]
  },
  {
   "cell_type": "code",
   "execution_count": 2,
   "id": "0d12c59f",
   "metadata": {},
   "outputs": [
    {
     "data": {
      "text/html": [
       "<div>\n",
       "<style scoped>\n",
       "    .dataframe tbody tr th:only-of-type {\n",
       "        vertical-align: middle;\n",
       "    }\n",
       "\n",
       "    .dataframe tbody tr th {\n",
       "        vertical-align: top;\n",
       "    }\n",
       "\n",
       "    .dataframe thead th {\n",
       "        text-align: right;\n",
       "    }\n",
       "</style>\n",
       "<table border=\"1\" class=\"dataframe\">\n",
       "  <thead>\n",
       "    <tr style=\"text-align: right;\">\n",
       "      <th></th>\n",
       "      <th>Station code</th>\n",
       "      <th>Station name</th>\n",
       "      <th>Year</th>\n",
       "      <th>Month</th>\n",
       "      <th>Month average temperature [°C]</th>\n",
       "      <th>temperature measurement status</th>\n",
       "      <th>Average monthly relative humidity [%]</th>\n",
       "      <th>WLGS measurement</th>\n",
       "      <th>Average monthly wind speed [m/s]</th>\n",
       "      <th>FWS measurement</th>\n",
       "      <th>Average monthly general cloud cover [octants]</th>\n",
       "      <th>NOS measurement</th>\n",
       "    </tr>\n",
       "  </thead>\n",
       "  <tbody>\n",
       "    <tr>\n",
       "      <th>0</th>\n",
       "      <td>249180010</td>\n",
       "      <td>PSZCZYNA</td>\n",
       "      <td>2001</td>\n",
       "      <td>2</td>\n",
       "      <td>0.0</td>\n",
       "      <td>NaN</td>\n",
       "      <td>0.0</td>\n",
       "      <td>8.0</td>\n",
       "      <td>1.6</td>\n",
       "      <td>NaN</td>\n",
       "      <td>4.6</td>\n",
       "      <td>NaN</td>\n",
       "    </tr>\n",
       "    <tr>\n",
       "      <th>1</th>\n",
       "      <td>249180010</td>\n",
       "      <td>PSZCZYNA</td>\n",
       "      <td>2001</td>\n",
       "      <td>3</td>\n",
       "      <td>3.3</td>\n",
       "      <td>NaN</td>\n",
       "      <td>0.0</td>\n",
       "      <td>8.0</td>\n",
       "      <td>1.7</td>\n",
       "      <td>NaN</td>\n",
       "      <td>5.6</td>\n",
       "      <td>NaN</td>\n",
       "    </tr>\n",
       "    <tr>\n",
       "      <th>2</th>\n",
       "      <td>249180010</td>\n",
       "      <td>PSZCZYNA</td>\n",
       "      <td>2001</td>\n",
       "      <td>4</td>\n",
       "      <td>7.5</td>\n",
       "      <td>NaN</td>\n",
       "      <td>0.0</td>\n",
       "      <td>8.0</td>\n",
       "      <td>1.3</td>\n",
       "      <td>NaN</td>\n",
       "      <td>5.7</td>\n",
       "      <td>NaN</td>\n",
       "    </tr>\n",
       "    <tr>\n",
       "      <th>3</th>\n",
       "      <td>249180010</td>\n",
       "      <td>PSZCZYNA</td>\n",
       "      <td>2001</td>\n",
       "      <td>5</td>\n",
       "      <td>14.6</td>\n",
       "      <td>NaN</td>\n",
       "      <td>0.0</td>\n",
       "      <td>8.0</td>\n",
       "      <td>1.4</td>\n",
       "      <td>NaN</td>\n",
       "      <td>3.9</td>\n",
       "      <td>NaN</td>\n",
       "    </tr>\n",
       "    <tr>\n",
       "      <th>4</th>\n",
       "      <td>249180010</td>\n",
       "      <td>PSZCZYNA</td>\n",
       "      <td>2001</td>\n",
       "      <td>6</td>\n",
       "      <td>14.7</td>\n",
       "      <td>NaN</td>\n",
       "      <td>0.0</td>\n",
       "      <td>8.0</td>\n",
       "      <td>1.0</td>\n",
       "      <td>NaN</td>\n",
       "      <td>5.4</td>\n",
       "      <td>NaN</td>\n",
       "    </tr>\n",
       "    <tr>\n",
       "      <th>...</th>\n",
       "      <td>...</td>\n",
       "      <td>...</td>\n",
       "      <td>...</td>\n",
       "      <td>...</td>\n",
       "      <td>...</td>\n",
       "      <td>...</td>\n",
       "      <td>...</td>\n",
       "      <td>...</td>\n",
       "      <td>...</td>\n",
       "      <td>...</td>\n",
       "      <td>...</td>\n",
       "      <td>...</td>\n",
       "    </tr>\n",
       "    <tr>\n",
       "      <th>1897</th>\n",
       "      <td>349220695</td>\n",
       "      <td>PRZEMYL</td>\n",
       "      <td>2001</td>\n",
       "      <td>2</td>\n",
       "      <td>-0.2</td>\n",
       "      <td>NaN</td>\n",
       "      <td>80.4</td>\n",
       "      <td>NaN</td>\n",
       "      <td>4.5</td>\n",
       "      <td>NaN</td>\n",
       "      <td>5.7</td>\n",
       "      <td>NaN</td>\n",
       "    </tr>\n",
       "    <tr>\n",
       "      <th>1898</th>\n",
       "      <td>349220695</td>\n",
       "      <td>PRZEMYL</td>\n",
       "      <td>2001</td>\n",
       "      <td>3</td>\n",
       "      <td>3.6</td>\n",
       "      <td>NaN</td>\n",
       "      <td>78.0</td>\n",
       "      <td>NaN</td>\n",
       "      <td>3.8</td>\n",
       "      <td>NaN</td>\n",
       "      <td>6.2</td>\n",
       "      <td>NaN</td>\n",
       "    </tr>\n",
       "    <tr>\n",
       "      <th>1899</th>\n",
       "      <td>349220695</td>\n",
       "      <td>PRZEMYL</td>\n",
       "      <td>2001</td>\n",
       "      <td>4</td>\n",
       "      <td>8.6</td>\n",
       "      <td>NaN</td>\n",
       "      <td>72.3</td>\n",
       "      <td>NaN</td>\n",
       "      <td>3.0</td>\n",
       "      <td>NaN</td>\n",
       "      <td>5.7</td>\n",
       "      <td>NaN</td>\n",
       "    </tr>\n",
       "    <tr>\n",
       "      <th>1900</th>\n",
       "      <td>349220695</td>\n",
       "      <td>PRZEMYL</td>\n",
       "      <td>2001</td>\n",
       "      <td>5</td>\n",
       "      <td>14.7</td>\n",
       "      <td>NaN</td>\n",
       "      <td>61.2</td>\n",
       "      <td>NaN</td>\n",
       "      <td>3.8</td>\n",
       "      <td>NaN</td>\n",
       "      <td>4.3</td>\n",
       "      <td>NaN</td>\n",
       "    </tr>\n",
       "    <tr>\n",
       "      <th>1901</th>\n",
       "      <td>349220695</td>\n",
       "      <td>PRZEMYL</td>\n",
       "      <td>2001</td>\n",
       "      <td>6</td>\n",
       "      <td>15.2</td>\n",
       "      <td>NaN</td>\n",
       "      <td>77.2</td>\n",
       "      <td>NaN</td>\n",
       "      <td>3.4</td>\n",
       "      <td>NaN</td>\n",
       "      <td>6.1</td>\n",
       "      <td>NaN</td>\n",
       "    </tr>\n",
       "  </tbody>\n",
       "</table>\n",
       "<p>1902 rows × 12 columns</p>\n",
       "</div>"
      ],
      "text/plain": [
       "      Station code Station name  Year  Month  Month average temperature [°C]  \\\n",
       "0        249180010     PSZCZYNA  2001      2                             0.0   \n",
       "1        249180010     PSZCZYNA  2001      3                             3.3   \n",
       "2        249180010     PSZCZYNA  2001      4                             7.5   \n",
       "3        249180010     PSZCZYNA  2001      5                            14.6   \n",
       "4        249180010     PSZCZYNA  2001      6                            14.7   \n",
       "...            ...          ...   ...    ...                             ...   \n",
       "1897     349220695     PRZEMYL  2001      2                            -0.2   \n",
       "1898     349220695     PRZEMYL  2001      3                             3.6   \n",
       "1899     349220695     PRZEMYL  2001      4                             8.6   \n",
       "1900     349220695     PRZEMYL  2001      5                            14.7   \n",
       "1901     349220695     PRZEMYL  2001      6                            15.2   \n",
       "\n",
       "      temperature measurement status  Average monthly relative humidity [%]  \\\n",
       "0                                NaN                                    0.0   \n",
       "1                                NaN                                    0.0   \n",
       "2                                NaN                                    0.0   \n",
       "3                                NaN                                    0.0   \n",
       "4                                NaN                                    0.0   \n",
       "...                              ...                                    ...   \n",
       "1897                             NaN                                   80.4   \n",
       "1898                             NaN                                   78.0   \n",
       "1899                             NaN                                   72.3   \n",
       "1900                             NaN                                   61.2   \n",
       "1901                             NaN                                   77.2   \n",
       "\n",
       "      WLGS measurement  Average monthly wind speed [m/s]  FWS measurement  \\\n",
       "0                  8.0                               1.6              NaN   \n",
       "1                  8.0                               1.7              NaN   \n",
       "2                  8.0                               1.3              NaN   \n",
       "3                  8.0                               1.4              NaN   \n",
       "4                  8.0                               1.0              NaN   \n",
       "...                ...                               ...              ...   \n",
       "1897               NaN                               4.5              NaN   \n",
       "1898               NaN                               3.8              NaN   \n",
       "1899               NaN                               3.0              NaN   \n",
       "1900               NaN                               3.8              NaN   \n",
       "1901               NaN                               3.4              NaN   \n",
       "\n",
       "      Average monthly general cloud cover [octants]  NOS measurement  \n",
       "0                                               4.6              NaN  \n",
       "1                                               5.6              NaN  \n",
       "2                                               5.7              NaN  \n",
       "3                                               3.9              NaN  \n",
       "4                                               5.4              NaN  \n",
       "...                                             ...              ...  \n",
       "1897                                            5.7              NaN  \n",
       "1898                                            6.2              NaN  \n",
       "1899                                            5.7              NaN  \n",
       "1900                                            4.3              NaN  \n",
       "1901                                            6.1              NaN  \n",
       "\n",
       "[1902 rows x 12 columns]"
      ]
     },
     "execution_count": 2,
     "metadata": {},
     "output_type": "execute_result"
    }
   ],
   "source": [
    "meteo01 = pd.read_csv('./Meteo_Data/k_m_t_2001.csv',encoding = 'unicode_escape',header=0,names = ['Station code','Station name','Year','Month','Month average temperature [°C]','temperature measurement status','Average monthly relative humidity [%]','WLGS measurement','Average monthly wind speed [m/s]','FWS measurement','Average monthly general cloud cover [octants]','NOS measurement'])\n",
    "meteo01"
   ]
  },
  {
   "cell_type": "code",
   "execution_count": 3,
   "id": "d30210ec",
   "metadata": {},
   "outputs": [
    {
     "name": "stdout",
     "output_type": "stream",
     "text": [
      "7.58149316508938\n",
      "21.5\n",
      "-9.5\n"
     ]
    }
   ],
   "source": [
    "avg01 = meteo01['Month average temperature [°C]'].mean()\n",
    "max01 = meteo01['Month average temperature [°C]'].max()\n",
    "min01 = meteo01['Month average temperature [°C]'].min() \n",
    "print(avg01)\n",
    "print(max01)\n",
    "print(min01)"
   ]
  },
  {
   "cell_type": "code",
   "execution_count": 4,
   "id": "ae27ee75",
   "metadata": {},
   "outputs": [
    {
     "name": "stdout",
     "output_type": "stream",
     "text": [
      "8.414824654622741\n",
      "21.8\n",
      "-8.9\n"
     ]
    }
   ],
   "source": [
    "meteo02 = pd.read_csv('./Meteo_Data/k_m_t_2002.csv',encoding = 'unicode_escape',header=0,names = ['Station code','Station name','Year','Month','Month average temperature [°C]','temperature measurement status','Average monthly relative humidity [%]','WLGS measurement','Average monthly wind speed [m/s]','FWS measurement','Average monthly general cloud cover [octants]','NOS measurement'])\n",
    "avg02 = meteo02['Month average temperature [°C]'].mean()\n",
    "max02 = meteo02['Month average temperature [°C]'].max()\n",
    "min02 = meteo02['Month average temperature [°C]'].min() \n",
    "print(avg02)\n",
    "print(max02)\n",
    "print(min02)"
   ]
  },
  {
   "cell_type": "code",
   "execution_count": 5,
   "id": "bbc1bde1",
   "metadata": {},
   "outputs": [
    {
     "name": "stdout",
     "output_type": "stream",
     "text": [
      "7.56959314775162\n",
      "21.4\n",
      "-9.6\n"
     ]
    }
   ],
   "source": [
    "meteo03 = pd.read_csv('./Meteo_Data/k_m_t_2003.csv',encoding = 'unicode_escape',header=0,names = ['Station code','Station name','Year','Month','Month average temperature [°C]','temperature measurement status','Average monthly relative humidity [%]','WLGS measurement','Average monthly wind speed [m/s]','FWS measurement','Average monthly general cloud cover [octants]','NOS measurement'])\n",
    "avg03 = meteo03['Month average temperature [°C]'].mean()\n",
    "max03 = meteo03['Month average temperature [°C]'].max()\n",
    "min03 = meteo03['Month average temperature [°C]'].min() \n",
    "print(avg03)\n",
    "print(max03)\n",
    "print(min03)"
   ]
  },
  {
   "cell_type": "code",
   "execution_count": 6,
   "id": "5a5fa6b3",
   "metadata": {},
   "outputs": [
    {
     "name": "stdout",
     "output_type": "stream",
     "text": [
      "7.602157894736846\n",
      "20.2\n",
      "-10.2\n"
     ]
    }
   ],
   "source": [
    "meteo04 = pd.read_csv('./Meteo_Data/k_m_t_2004.csv',encoding = 'unicode_escape',header=0,names = ['Station code','Station name','Year','Month','Month average temperature [°C]','temperature measurement status','Average monthly relative humidity [%]','WLGS measurement','Average monthly wind speed [m/s]','FWS measurement','Average monthly general cloud cover [octants]','NOS measurement'])\n",
    "avg04 = meteo04['Month average temperature [°C]'].mean()\n",
    "max04 = meteo04['Month average temperature [°C]'].max()\n",
    "min04 = meteo04['Month average temperature [°C]'].min() \n",
    "print(avg04)\n",
    "print(max04)\n",
    "print(min04)"
   ]
  },
  {
   "cell_type": "code",
   "execution_count": 7,
   "id": "1465ee79",
   "metadata": {},
   "outputs": [
    {
     "name": "stdout",
     "output_type": "stream",
     "text": [
      "7.446945169712795\n",
      "21.5\n",
      "-9.3\n"
     ]
    }
   ],
   "source": [
    "meteo05 = pd.read_csv('./Meteo_Data/k_m_t_2005.csv',encoding = 'unicode_escape',header=0,names = ['Station code','Station name','Year','Month','Month average temperature [°C]','temperature measurement status','Average monthly relative humidity [%]','WLGS measurement','Average monthly wind speed [m/s]','FWS measurement','Average monthly general cloud cover [octants]','NOS measurement'])\n",
    "avg05 = meteo05['Month average temperature [°C]'].mean()\n",
    "max05 = meteo05['Month average temperature [°C]'].max()\n",
    "min05 = meteo05['Month average temperature [°C]'].min() \n",
    "print(avg05)\n",
    "print(max05)\n",
    "print(min05)"
   ]
  },
  {
   "cell_type": "code",
   "execution_count": 8,
   "id": "b86e23fb",
   "metadata": {},
   "outputs": [
    {
     "name": "stdout",
     "output_type": "stream",
     "text": [
      "7.916537867078809\n",
      "24.1\n",
      "-12.1\n"
     ]
    }
   ],
   "source": [
    "meteo06 = pd.read_csv('./Meteo_Data/k_m_t_2006.csv',encoding = 'unicode_escape',header=0,names = ['Station code','Station name','Year','Month','Month average temperature [°C]','temperature measurement status','Average monthly relative humidity [%]','WLGS measurement','Average monthly wind speed [m/s]','FWS measurement','Average monthly general cloud cover [octants]','NOS measurement'])\n",
    "avg06 = meteo06['Month average temperature [°C]'].mean()\n",
    "max06 = meteo06['Month average temperature [°C]'].max()\n",
    "min06 = meteo06['Month average temperature [°C]'].min() \n",
    "print(avg06)\n",
    "print(max06)\n",
    "print(min06)"
   ]
  },
  {
   "cell_type": "code",
   "execution_count": 9,
   "id": "9342c8cb",
   "metadata": {},
   "outputs": [
    {
     "name": "stdout",
     "output_type": "stream",
     "text": [
      "8.68473874806001\n",
      "20.4\n",
      "-5.6\n"
     ]
    }
   ],
   "source": [
    "meteo07 = pd.read_csv('./Meteo_Data/k_m_t_2007.csv',encoding = 'unicode_escape',header=0,names = ['Station code','Station name','Year','Month','Month average temperature [°C]','temperature measurement status','Average monthly relative humidity [%]','WLGS measurement','Average monthly wind speed [m/s]','FWS measurement','Average monthly general cloud cover [octants]','NOS measurement'])\n",
    "avg07 = meteo07['Month average temperature [°C]'].mean()\n",
    "max07 = meteo07['Month average temperature [°C]'].max()\n",
    "min07 = meteo07['Month average temperature [°C]'].min() \n",
    "print(avg07)\n",
    "print(max07)\n",
    "print(min07)"
   ]
  },
  {
   "cell_type": "code",
   "execution_count": 10,
   "id": "153d3a5f",
   "metadata": {
    "scrolled": true
   },
   "outputs": [
    {
     "name": "stdout",
     "output_type": "stream",
     "text": [
      "8.703044375644993\n",
      "20.1\n",
      "-4.7\n"
     ]
    }
   ],
   "source": [
    "meteo08 = pd.read_csv('./Meteo_Data/k_m_t_2008.csv',encoding = 'unicode_escape',header=0,names = ['Station code','Station name','Year','Month','Month average temperature [°C]','temperature measurement status','Average monthly relative humidity [%]','WLGS measurement','Average monthly wind speed [m/s]','FWS measurement','Average monthly general cloud cover [octants]','NOS measurement'])\n",
    "avg08 = meteo08['Month average temperature [°C]'].mean()\n",
    "max08 = meteo08['Month average temperature [°C]'].max()\n",
    "min08 = meteo08['Month average temperature [°C]'].min() \n",
    "print(avg08)\n",
    "print(max08)\n",
    "print(min08)"
   ]
  },
  {
   "cell_type": "code",
   "execution_count": 11,
   "id": "8a323760",
   "metadata": {},
   "outputs": [
    {
     "name": "stdout",
     "output_type": "stream",
     "text": [
      "7.841382922996337\n",
      "20.8\n",
      "-7.7\n"
     ]
    }
   ],
   "source": [
    "meteo09 = pd.read_csv('./Meteo_Data/k_m_t_2009.csv',encoding = 'unicode_escape',header=0,names = ['Station code','Station name','Year','Month','Month average temperature [°C]','temperature measurement status','Average monthly relative humidity [%]','WLGS measurement','Average monthly wind speed [m/s]','FWS measurement','Average monthly general cloud cover [octants]','NOS measurement'])\n",
    "avg09 = meteo09['Month average temperature [°C]'].mean()\n",
    "max09 = meteo09['Month average temperature [°C]'].max()\n",
    "min09 = meteo09['Month average temperature [°C]'].min() \n",
    "print(avg09)\n",
    "print(max09)\n",
    "print(min09)"
   ]
  },
  {
   "cell_type": "code",
   "execution_count": 12,
   "id": "8ea98340",
   "metadata": {},
   "outputs": [
    {
     "name": "stdout",
     "output_type": "stream",
     "text": [
      "6.880021253985106\n",
      "22.6\n",
      "-11.0\n"
     ]
    }
   ],
   "source": [
    "meteo10 = pd.read_csv('./Meteo_Data/k_m_t_2010.csv',encoding = 'unicode_escape',header=0,names = ['Station code','Station name','Year','Month','Month average temperature [°C]','temperature measurement status','Average monthly relative humidity [%]','WLGS measurement','Average monthly wind speed [m/s]','FWS measurement','Average monthly general cloud cover [octants]','NOS measurement'])\n",
    "avg10 = meteo10['Month average temperature [°C]'].mean()\n",
    "max10 = meteo10['Month average temperature [°C]'].max()\n",
    "min10 = meteo10['Month average temperature [°C]'].min() \n",
    "print(avg10)\n",
    "print(max10)\n",
    "print(min10)"
   ]
  },
  {
   "cell_type": "code",
   "execution_count": 13,
   "id": "5092ce54",
   "metadata": {},
   "outputs": [
    {
     "name": "stdout",
     "output_type": "stream",
     "text": [
      "8.094453248811416\n",
      "19.8\n",
      "-7.2\n"
     ]
    }
   ],
   "source": [
    "meteo11 = pd.read_csv('./Meteo_Data/k_m_t_2011.csv',encoding = 'unicode_escape',header=0,names = ['Station code','Station name','Year','Month','Month average temperature [°C]','temperature measurement status','Average monthly relative humidity [%]','WLGS measurement','Average monthly wind speed [m/s]','FWS measurement','Average monthly general cloud cover [octants]','NOS measurement'])\n",
    "avg11 = meteo11['Month average temperature [°C]'].mean()\n",
    "max11 = meteo11['Month average temperature [°C]'].max()\n",
    "min11 = meteo11['Month average temperature [°C]'].min() \n",
    "print(avg11)\n",
    "print(max11)\n",
    "print(min11)"
   ]
  },
  {
   "cell_type": "code",
   "execution_count": 14,
   "id": "6e376aee",
   "metadata": {},
   "outputs": [
    {
     "name": "stdout",
     "output_type": "stream",
     "text": [
      "7.721718502899341\n",
      "21.8\n",
      "-11.5\n"
     ]
    }
   ],
   "source": [
    "meteo12 = pd.read_csv('./Meteo_Data/k_m_t_2012.csv',encoding = 'unicode_escape',header=0,names = ['Station code','Station name','Year','Month','Month average temperature [°C]','temperature measurement status','Average monthly relative humidity [%]','WLGS measurement','Average monthly wind speed [m/s]','FWS measurement','Average monthly general cloud cover [octants]','NOS measurement'])\n",
    "avg12 = meteo12['Month average temperature [°C]'].mean()\n",
    "max12 = meteo12['Month average temperature [°C]'].max()\n",
    "min12 = meteo12['Month average temperature [°C]'].min() \n",
    "print(avg12)\n",
    "print(max12)\n",
    "print(min12)"
   ]
  },
  {
   "cell_type": "code",
   "execution_count": 15,
   "id": "30feb250",
   "metadata": {},
   "outputs": [
    {
     "name": "stdout",
     "output_type": "stream",
     "text": [
      "7.730111524163572\n",
      "21.0\n",
      "-7.1\n"
     ]
    }
   ],
   "source": [
    "meteo13 = pd.read_csv('./Meteo_Data/k_m_t_2013.csv',encoding = 'unicode_escape',header=0,names = ['Station code','Station name','Year','Month','Month average temperature [°C]','temperature measurement status','Average monthly relative humidity [%]','WLGS measurement','Average monthly wind speed [m/s]','FWS measurement','Average monthly general cloud cover [octants]','NOS measurement'])\n",
    "avg13 = meteo13['Month average temperature [°C]'].mean()\n",
    "max13 = meteo13['Month average temperature [°C]'].max()\n",
    "min13 = meteo13['Month average temperature [°C]'].min() \n",
    "print(avg13)\n",
    "print(max13)\n",
    "print(min13)"
   ]
  },
  {
   "cell_type": "code",
   "execution_count": 16,
   "id": "5fce1e73",
   "metadata": {},
   "outputs": [
    {
     "name": "stdout",
     "output_type": "stream",
     "text": [
      "8.876394849785399\n",
      "22.1\n",
      "-5.4\n"
     ]
    }
   ],
   "source": [
    "meteo14 = pd.read_csv('./Meteo_Data/k_m_t_2014.csv',encoding = 'unicode_escape',header=0,names = ['Station code','Station name','Year','Month','Month average temperature [°C]','temperature measurement status','Average monthly relative humidity [%]','WLGS measurement','Average monthly wind speed [m/s]','FWS measurement','Average monthly general cloud cover [octants]','NOS measurement'])\n",
    "avg14 = meteo14['Month average temperature [°C]'].mean()\n",
    "max14 = meteo14['Month average temperature [°C]'].max()\n",
    "min14 = meteo14['Month average temperature [°C]'].min() \n",
    "print(avg14)\n",
    "print(max14)\n",
    "print(min14)"
   ]
  },
  {
   "cell_type": "code",
   "execution_count": 17,
   "id": "dc6aa771",
   "metadata": {},
   "outputs": [
    {
     "name": "stdout",
     "output_type": "stream",
     "text": [
      "8.178796296296298\n",
      "23.4\n",
      "-5.6\n"
     ]
    }
   ],
   "source": [
    "meteo15 = pd.read_csv('./Meteo_Data/k_m_t_2015.csv',encoding = 'unicode_escape',header=0,names = ['Station code','Station name','Year','Month','Month average temperature [°C]','temperature measurement status','Average monthly relative humidity [%]','WLGS measurement','Average monthly wind speed [m/s]','FWS measurement','Average monthly general cloud cover [octants]','NOS measurement'])\n",
    "avg15 = meteo15['Month average temperature [°C]'].mean()\n",
    "max15 = meteo15['Month average temperature [°C]'].max()\n",
    "min15 = meteo15['Month average temperature [°C]'].min() \n",
    "print(avg15)\n",
    "print(max15)\n",
    "print(min15)"
   ]
  },
  {
   "cell_type": "code",
   "execution_count": 18,
   "id": "4197edc7",
   "metadata": {},
   "outputs": [
    {
     "name": "stdout",
     "output_type": "stream",
     "text": [
      "8.095647321428567\n",
      "20.7\n",
      "-7.2\n"
     ]
    }
   ],
   "source": [
    "meteo16 = pd.read_csv('./Meteo_Data/k_m_t_2016.csv',encoding = 'unicode_escape',header=0,names = ['Station code','Station name','Year','Month','Month average temperature [°C]','temperature measurement status','Average monthly relative humidity [%]','WLGS measurement','Average monthly wind speed [m/s]','FWS measurement','Average monthly general cloud cover [octants]','NOS measurement'])\n",
    "avg16 = meteo16['Month average temperature [°C]'].mean()\n",
    "max16 = meteo16['Month average temperature [°C]'].max()\n",
    "min16 = meteo16['Month average temperature [°C]'].min() \n",
    "print(avg16)\n",
    "print(max16)\n",
    "print(min16)"
   ]
  },
  {
   "cell_type": "code",
   "execution_count": 19,
   "id": "e9b75e16",
   "metadata": {},
   "outputs": [
    {
     "name": "stdout",
     "output_type": "stream",
     "text": [
      "7.908944954128439\n",
      "20.7\n",
      "-10.3\n"
     ]
    }
   ],
   "source": [
    "meteo17 = pd.read_csv('./Meteo_Data/k_m_t_2017.csv',encoding = 'unicode_escape',header=0,names = ['Station code','Station name','Year','Month','Month average temperature [°C]','temperature measurement status','Average monthly relative humidity [%]','WLGS measurement','Average monthly wind speed [m/s]','FWS measurement','Average monthly general cloud cover [octants]','NOS measurement'])\n",
    "avg17 = meteo17['Month average temperature [°C]'].mean()\n",
    "max17 = meteo17['Month average temperature [°C]'].max()\n",
    "min17 = meteo17['Month average temperature [°C]'].min() \n",
    "print(avg17)\n",
    "print(max17)\n",
    "print(min17)"
   ]
  },
  {
   "cell_type": "code",
   "execution_count": 20,
   "id": "6302690c",
   "metadata": {},
   "outputs": [
    {
     "name": "stdout",
     "output_type": "stream",
     "text": [
      "8.707184923439339\n",
      "22.2\n",
      "-10.4\n"
     ]
    }
   ],
   "source": [
    "meteo18 = pd.read_csv('./Meteo_Data/k_m_t_2018.csv',encoding = 'unicode_escape',header=0,names = ['Station code','Station name','Year','Month','Month average temperature [°C]','temperature measurement status','Average monthly relative humidity [%]','WLGS measurement','Average monthly wind speed [m/s]','FWS measurement','Average monthly general cloud cover [octants]','NOS measurement'])\n",
    "avg18 = meteo18['Month average temperature [°C]'].mean()\n",
    "max18 = meteo18['Month average temperature [°C]'].max()\n",
    "min18 = meteo18['Month average temperature [°C]'].min() \n",
    "print(avg18)\n",
    "print(max18)\n",
    "print(min18)"
   ]
  },
  {
   "cell_type": "code",
   "execution_count": 21,
   "id": "7c96ec38",
   "metadata": {},
   "outputs": [
    {
     "name": "stdout",
     "output_type": "stream",
     "text": [
      "9.16411543287327\n",
      "23.7\n",
      "-8.7\n"
     ]
    }
   ],
   "source": [
    "meteo19 = pd.read_csv('./Meteo_Data/k_m_t_2019.csv',encoding = 'unicode_escape',header=0,names = ['Station code','Station name','Year','Month','Month average temperature [°C]','temperature measurement status','Average monthly relative humidity [%]','WLGS measurement','Average monthly wind speed [m/s]','FWS measurement','Average monthly general cloud cover [octants]','NOS measurement'])\n",
    "avg19 = meteo19['Month average temperature [°C]'].mean()\n",
    "max19 = meteo19['Month average temperature [°C]'].max()\n",
    "min19 = meteo19['Month average temperature [°C]'].min() \n",
    "print(avg19)\n",
    "print(max19)\n",
    "print(min19)"
   ]
  },
  {
   "cell_type": "code",
   "execution_count": 22,
   "id": "61c6b0ac",
   "metadata": {},
   "outputs": [
    {
     "name": "stdout",
     "output_type": "stream",
     "text": [
      "8.90699865410499\n",
      "21.2\n",
      "-3.6\n"
     ]
    }
   ],
   "source": [
    "meteo20 = pd.read_csv('./Meteo_Data/k_m_t_2020.csv',encoding = 'unicode_escape',header=0,names = ['Station code','Station name','Year','Month','Month average temperature [°C]','temperature measurement status','Average monthly relative humidity [%]','WLGS measurement','Average monthly wind speed [m/s]','FWS measurement','Average monthly general cloud cover [octants]','NOS measurement'])\n",
    "avg20 = meteo20['Month average temperature [°C]'].mean()\n",
    "max20 = meteo20['Month average temperature [°C]'].max()\n",
    "min20 = meteo20['Month average temperature [°C]'].min() \n",
    "print(avg20)\n",
    "print(max20)\n",
    "print(min20)"
   ]
  },
  {
   "cell_type": "code",
   "execution_count": 23,
   "id": "4add2b39",
   "metadata": {},
   "outputs": [
    {
     "name": "stdout",
     "output_type": "stream",
     "text": [
      "7.744717800289435\n",
      "22.8\n",
      "-7.7\n"
     ]
    }
   ],
   "source": [
    "meteo21 = pd.read_csv('./Meteo_Data/k_m_t_2021.csv',encoding = 'unicode_escape',header=0,names = ['Station code','Station name','Year','Month','Month average temperature [°C]','temperature measurement status','Average monthly relative humidity [%]','WLGS measurement','Average monthly wind speed [m/s]','FWS measurement','Average monthly general cloud cover [octants]','NOS measurement'])\n",
    "avg21 = meteo21['Month average temperature [°C]'].mean()\n",
    "max21 = meteo21['Month average temperature [°C]'].max()\n",
    "min21 = meteo21['Month average temperature [°C]'].min() \n",
    "print(avg21)\n",
    "print(max21)\n",
    "print(min21)"
   ]
  },
  {
   "cell_type": "code",
   "execution_count": 24,
   "id": "c8e82125",
   "metadata": {},
   "outputs": [],
   "source": [
    "#Creating data frame"
   ]
  },
  {
   "cell_type": "code",
   "execution_count": 25,
   "id": "ac3247dc",
   "metadata": {
    "scrolled": true
   },
   "outputs": [
    {
     "data": {
      "text/plain": [
       "{'Monthly mean tempereature': [7.58149316508938,\n",
       "  8.414824654622741,\n",
       "  7.56959314775162,\n",
       "  7.602157894736846,\n",
       "  7.446945169712795,\n",
       "  7.916537867078809,\n",
       "  8.68473874806001,\n",
       "  8.703044375644993,\n",
       "  7.841382922996337,\n",
       "  6.880021253985106,\n",
       "  8.094453248811416,\n",
       "  7.721718502899341,\n",
       "  7.730111524163572,\n",
       "  8.876394849785399,\n",
       "  8.178796296296298,\n",
       "  8.095647321428567,\n",
       "  7.908944954128439,\n",
       "  8.707184923439339,\n",
       "  9.16411543287327,\n",
       "  8.90699865410499,\n",
       "  7.744717800289435],\n",
       " 'Maximum of the mean month temperatures': [21.5,\n",
       "  21.8,\n",
       "  21.4,\n",
       "  20.2,\n",
       "  21.5,\n",
       "  24.1,\n",
       "  20.4,\n",
       "  20.1,\n",
       "  20.8,\n",
       "  22.6,\n",
       "  19.8,\n",
       "  21.8,\n",
       "  21.0,\n",
       "  22.1,\n",
       "  23.4,\n",
       "  20.7,\n",
       "  20.7,\n",
       "  22.2,\n",
       "  23.7,\n",
       "  21.2,\n",
       "  22.8],\n",
       " 'Minimum of the mean month temperatures': [-9.5,\n",
       "  -8.9,\n",
       "  -9.6,\n",
       "  -10.2,\n",
       "  -9.3,\n",
       "  -12.1,\n",
       "  -5.6,\n",
       "  -4.7,\n",
       "  -7.7,\n",
       "  -11.0,\n",
       "  -7.2,\n",
       "  -11.5,\n",
       "  -7.1,\n",
       "  -5.4,\n",
       "  -5.6,\n",
       "  -7.2,\n",
       "  -10.3,\n",
       "  -10.4,\n",
       "  -8.7,\n",
       "  -3.6,\n",
       "  -7.7]}"
      ]
     },
     "execution_count": 25,
     "metadata": {},
     "output_type": "execute_result"
    }
   ],
   "source": [
    "dict_to_create_df = {'Monthly mean tempereature': [avg01,avg02,avg03,avg04,avg05,avg06,avg07,avg08,avg09,avg10,avg11,avg12,avg13,avg14,avg15,avg16,avg17,avg18,avg19,avg20,avg21],'Maximum of the mean month temperatures': [max01,max02,max03,max04,max05,max06,max07,max08,max09,max10,max11,max12,max13,max14,max15,max16,max17,max18,max19,max20,max21],'Minimum of the mean month temperatures':[min01,min02,min03,min04,min05,min06,min07,min08,min09,min10,min11,min12,min13,min14,min15,min16,min17,min18,min19,min20,min21]}\n",
    "dict_to_create_df"
   ]
  },
  {
   "cell_type": "code",
   "execution_count": 26,
   "id": "111c7eb6",
   "metadata": {},
   "outputs": [],
   "source": [
    "years = ([i for i in range (2001,2022)])"
   ]
  },
  {
   "cell_type": "code",
   "execution_count": 27,
   "id": "658290e5",
   "metadata": {},
   "outputs": [
    {
     "data": {
      "text/html": [
       "<div>\n",
       "<style scoped>\n",
       "    .dataframe tbody tr th:only-of-type {\n",
       "        vertical-align: middle;\n",
       "    }\n",
       "\n",
       "    .dataframe tbody tr th {\n",
       "        vertical-align: top;\n",
       "    }\n",
       "\n",
       "    .dataframe thead th {\n",
       "        text-align: right;\n",
       "    }\n",
       "</style>\n",
       "<table border=\"1\" class=\"dataframe\">\n",
       "  <thead>\n",
       "    <tr style=\"text-align: right;\">\n",
       "      <th></th>\n",
       "      <th>Monthly mean tempereature</th>\n",
       "      <th>Maximum of the mean month temperatures</th>\n",
       "      <th>Minimum of the mean month temperatures</th>\n",
       "    </tr>\n",
       "  </thead>\n",
       "  <tbody>\n",
       "    <tr>\n",
       "      <th>2001</th>\n",
       "      <td>7.581493</td>\n",
       "      <td>21.5</td>\n",
       "      <td>-9.5</td>\n",
       "    </tr>\n",
       "    <tr>\n",
       "      <th>2002</th>\n",
       "      <td>8.414825</td>\n",
       "      <td>21.8</td>\n",
       "      <td>-8.9</td>\n",
       "    </tr>\n",
       "    <tr>\n",
       "      <th>2003</th>\n",
       "      <td>7.569593</td>\n",
       "      <td>21.4</td>\n",
       "      <td>-9.6</td>\n",
       "    </tr>\n",
       "    <tr>\n",
       "      <th>2004</th>\n",
       "      <td>7.602158</td>\n",
       "      <td>20.2</td>\n",
       "      <td>-10.2</td>\n",
       "    </tr>\n",
       "    <tr>\n",
       "      <th>2005</th>\n",
       "      <td>7.446945</td>\n",
       "      <td>21.5</td>\n",
       "      <td>-9.3</td>\n",
       "    </tr>\n",
       "    <tr>\n",
       "      <th>2006</th>\n",
       "      <td>7.916538</td>\n",
       "      <td>24.1</td>\n",
       "      <td>-12.1</td>\n",
       "    </tr>\n",
       "    <tr>\n",
       "      <th>2007</th>\n",
       "      <td>8.684739</td>\n",
       "      <td>20.4</td>\n",
       "      <td>-5.6</td>\n",
       "    </tr>\n",
       "    <tr>\n",
       "      <th>2008</th>\n",
       "      <td>8.703044</td>\n",
       "      <td>20.1</td>\n",
       "      <td>-4.7</td>\n",
       "    </tr>\n",
       "    <tr>\n",
       "      <th>2009</th>\n",
       "      <td>7.841383</td>\n",
       "      <td>20.8</td>\n",
       "      <td>-7.7</td>\n",
       "    </tr>\n",
       "    <tr>\n",
       "      <th>2010</th>\n",
       "      <td>6.880021</td>\n",
       "      <td>22.6</td>\n",
       "      <td>-11.0</td>\n",
       "    </tr>\n",
       "    <tr>\n",
       "      <th>2011</th>\n",
       "      <td>8.094453</td>\n",
       "      <td>19.8</td>\n",
       "      <td>-7.2</td>\n",
       "    </tr>\n",
       "    <tr>\n",
       "      <th>2012</th>\n",
       "      <td>7.721719</td>\n",
       "      <td>21.8</td>\n",
       "      <td>-11.5</td>\n",
       "    </tr>\n",
       "    <tr>\n",
       "      <th>2013</th>\n",
       "      <td>7.730112</td>\n",
       "      <td>21.0</td>\n",
       "      <td>-7.1</td>\n",
       "    </tr>\n",
       "    <tr>\n",
       "      <th>2014</th>\n",
       "      <td>8.876395</td>\n",
       "      <td>22.1</td>\n",
       "      <td>-5.4</td>\n",
       "    </tr>\n",
       "    <tr>\n",
       "      <th>2015</th>\n",
       "      <td>8.178796</td>\n",
       "      <td>23.4</td>\n",
       "      <td>-5.6</td>\n",
       "    </tr>\n",
       "    <tr>\n",
       "      <th>2016</th>\n",
       "      <td>8.095647</td>\n",
       "      <td>20.7</td>\n",
       "      <td>-7.2</td>\n",
       "    </tr>\n",
       "    <tr>\n",
       "      <th>2017</th>\n",
       "      <td>7.908945</td>\n",
       "      <td>20.7</td>\n",
       "      <td>-10.3</td>\n",
       "    </tr>\n",
       "    <tr>\n",
       "      <th>2018</th>\n",
       "      <td>8.707185</td>\n",
       "      <td>22.2</td>\n",
       "      <td>-10.4</td>\n",
       "    </tr>\n",
       "    <tr>\n",
       "      <th>2019</th>\n",
       "      <td>9.164115</td>\n",
       "      <td>23.7</td>\n",
       "      <td>-8.7</td>\n",
       "    </tr>\n",
       "    <tr>\n",
       "      <th>2020</th>\n",
       "      <td>8.906999</td>\n",
       "      <td>21.2</td>\n",
       "      <td>-3.6</td>\n",
       "    </tr>\n",
       "    <tr>\n",
       "      <th>2021</th>\n",
       "      <td>7.744718</td>\n",
       "      <td>22.8</td>\n",
       "      <td>-7.7</td>\n",
       "    </tr>\n",
       "  </tbody>\n",
       "</table>\n",
       "</div>"
      ],
      "text/plain": [
       "      Monthly mean tempereature  Maximum of the mean month temperatures  \\\n",
       "2001                   7.581493                                    21.5   \n",
       "2002                   8.414825                                    21.8   \n",
       "2003                   7.569593                                    21.4   \n",
       "2004                   7.602158                                    20.2   \n",
       "2005                   7.446945                                    21.5   \n",
       "2006                   7.916538                                    24.1   \n",
       "2007                   8.684739                                    20.4   \n",
       "2008                   8.703044                                    20.1   \n",
       "2009                   7.841383                                    20.8   \n",
       "2010                   6.880021                                    22.6   \n",
       "2011                   8.094453                                    19.8   \n",
       "2012                   7.721719                                    21.8   \n",
       "2013                   7.730112                                    21.0   \n",
       "2014                   8.876395                                    22.1   \n",
       "2015                   8.178796                                    23.4   \n",
       "2016                   8.095647                                    20.7   \n",
       "2017                   7.908945                                    20.7   \n",
       "2018                   8.707185                                    22.2   \n",
       "2019                   9.164115                                    23.7   \n",
       "2020                   8.906999                                    21.2   \n",
       "2021                   7.744718                                    22.8   \n",
       "\n",
       "      Minimum of the mean month temperatures  \n",
       "2001                                    -9.5  \n",
       "2002                                    -8.9  \n",
       "2003                                    -9.6  \n",
       "2004                                   -10.2  \n",
       "2005                                    -9.3  \n",
       "2006                                   -12.1  \n",
       "2007                                    -5.6  \n",
       "2008                                    -4.7  \n",
       "2009                                    -7.7  \n",
       "2010                                   -11.0  \n",
       "2011                                    -7.2  \n",
       "2012                                   -11.5  \n",
       "2013                                    -7.1  \n",
       "2014                                    -5.4  \n",
       "2015                                    -5.6  \n",
       "2016                                    -7.2  \n",
       "2017                                   -10.3  \n",
       "2018                                   -10.4  \n",
       "2019                                    -8.7  \n",
       "2020                                    -3.6  \n",
       "2021                                    -7.7  "
      ]
     },
     "execution_count": 27,
     "metadata": {},
     "output_type": "execute_result"
    }
   ],
   "source": [
    "df = pd.DataFrame(dict_to_create_df,index=years)\n",
    "df"
   ]
  },
  {
   "cell_type": "code",
   "execution_count": 28,
   "id": "5fb492c7",
   "metadata": {
    "scrolled": true
   },
   "outputs": [
    {
     "data": {
      "text/plain": [
       "['Solarize_Light2',\n",
       " '_classic_test_patch',\n",
       " 'bmh',\n",
       " 'classic',\n",
       " 'dark_background',\n",
       " 'fast',\n",
       " 'fivethirtyeight',\n",
       " 'ggplot',\n",
       " 'grayscale',\n",
       " 'seaborn',\n",
       " 'seaborn-bright',\n",
       " 'seaborn-colorblind',\n",
       " 'seaborn-dark',\n",
       " 'seaborn-dark-palette',\n",
       " 'seaborn-darkgrid',\n",
       " 'seaborn-deep',\n",
       " 'seaborn-muted',\n",
       " 'seaborn-notebook',\n",
       " 'seaborn-paper',\n",
       " 'seaborn-pastel',\n",
       " 'seaborn-poster',\n",
       " 'seaborn-talk',\n",
       " 'seaborn-ticks',\n",
       " 'seaborn-white',\n",
       " 'seaborn-whitegrid',\n",
       " 'tableau-colorblind10']"
      ]
     },
     "execution_count": 28,
     "metadata": {},
     "output_type": "execute_result"
    }
   ],
   "source": [
    "plt.style.available"
   ]
  },
  {
   "cell_type": "code",
   "execution_count": 29,
   "id": "e1c1ae32",
   "metadata": {},
   "outputs": [
    {
     "data": {
      "text/plain": [
       "<AxesSubplot:title={'center':'Temperature in Poland in 2001-2021 years'}, xlabel='Years', ylabel='Temperature'>"
      ]
     },
     "execution_count": 29,
     "metadata": {},
     "output_type": "execute_result"
    },
    {
     "data": {
      "image/png": "[encoded data removed]",
      "text/plain": [
       "<Figure size 1440x576 with 1 Axes>"
      ]
     },
     "metadata": {},
     "output_type": "display_data"
    }
   ],
   "source": [
    "plt.style.use('seaborn-whitegrid')\n",
    "df.plot(figsize=(20,8),title='Temperature in Poland in 2001-2021 years',xlabel = 'Years',ylabel='Temperature',xticks=range(2001,2022))"
   ]
  },
  {
   "cell_type": "code",
   "execution_count": null,
   "id": "e6ea4628",
   "metadata": {},
   "outputs": [],
   "source": []
  }
 ],
 "metadata": {
  "kernelspec": {
   "display_name": "Python 3 (ipykernel)",
   "language": "python",
   "name": "python3"
  },
  "language_info": {
   "codemirror_mode": {
    "name": "ipython",
    "version": 3
   },
   "file_extension": ".py",
   "mimetype": "text/x-python",
   "name": "python",
   "nbconvert_exporter": "python",
   "pygments_lexer": "ipython3",
   "version": "3.9.7"
  }
 },
 "nbformat": 4,
 "nbformat_minor": 5
}
