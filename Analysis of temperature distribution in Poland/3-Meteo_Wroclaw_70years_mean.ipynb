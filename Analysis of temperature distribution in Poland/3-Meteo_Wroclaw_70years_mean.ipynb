{
 "cells": [
  {
   "cell_type": "code",
   "execution_count": 1,
   "id": "bbacaa33",
   "metadata": {},
   "outputs": [],
   "source": [
    "import pandas as pd\n",
    "import numpy as np\n",
    "import matplotlib.pyplot as plt"
   ]
  },
  {
   "cell_type": "code",
   "execution_count": 2,
   "id": "104a5abe",
   "metadata": {},
   "outputs": [
    {
     "data": {
      "text/html": [
       "<div>\n",
       "<style scoped>\n",
       "    .dataframe tbody tr th:only-of-type {\n",
       "        vertical-align: middle;\n",
       "    }\n",
       "\n",
       "    .dataframe tbody tr th {\n",
       "        vertical-align: top;\n",
       "    }\n",
       "\n",
       "    .dataframe thead th {\n",
       "        text-align: right;\n",
       "    }\n",
       "</style>\n",
       "<table border=\"1\" class=\"dataframe\">\n",
       "  <thead>\n",
       "    <tr style=\"text-align: right;\">\n",
       "      <th></th>\n",
       "      <th>0</th>\n",
       "      <th>1</th>\n",
       "      <th>2</th>\n",
       "      <th>3</th>\n",
       "    </tr>\n",
       "  </thead>\n",
       "  <tbody>\n",
       "    <tr>\n",
       "      <th>0</th>\n",
       "      <td>SOUID</td>\n",
       "      <td>DATE</td>\n",
       "      <td>TG</td>\n",
       "      <td>Q_TG</td>\n",
       "    </tr>\n",
       "    <tr>\n",
       "      <th>1</th>\n",
       "      <td>100661</td>\n",
       "      <td>19510101</td>\n",
       "      <td>-69</td>\n",
       "      <td>0</td>\n",
       "    </tr>\n",
       "    <tr>\n",
       "      <th>2</th>\n",
       "      <td>100661</td>\n",
       "      <td>19510102</td>\n",
       "      <td>16</td>\n",
       "      <td>0</td>\n",
       "    </tr>\n",
       "    <tr>\n",
       "      <th>3</th>\n",
       "      <td>100661</td>\n",
       "      <td>19510103</td>\n",
       "      <td>22</td>\n",
       "      <td>0</td>\n",
       "    </tr>\n",
       "    <tr>\n",
       "      <th>4</th>\n",
       "      <td>100661</td>\n",
       "      <td>19510104</td>\n",
       "      <td>-5</td>\n",
       "      <td>0</td>\n",
       "    </tr>\n",
       "    <tr>\n",
       "      <th>...</th>\n",
       "      <td>...</td>\n",
       "      <td>...</td>\n",
       "      <td>...</td>\n",
       "      <td>...</td>\n",
       "    </tr>\n",
       "    <tr>\n",
       "      <th>25988</th>\n",
       "      <td>912424</td>\n",
       "      <td>20220224</td>\n",
       "      <td>41</td>\n",
       "      <td>0</td>\n",
       "    </tr>\n",
       "    <tr>\n",
       "      <th>25989</th>\n",
       "      <td>912424</td>\n",
       "      <td>20220225</td>\n",
       "      <td>59</td>\n",
       "      <td>0</td>\n",
       "    </tr>\n",
       "    <tr>\n",
       "      <th>25990</th>\n",
       "      <td>912424</td>\n",
       "      <td>20220226</td>\n",
       "      <td>36</td>\n",
       "      <td>0</td>\n",
       "    </tr>\n",
       "    <tr>\n",
       "      <th>25991</th>\n",
       "      <td>912424</td>\n",
       "      <td>20220227</td>\n",
       "      <td>9</td>\n",
       "      <td>0</td>\n",
       "    </tr>\n",
       "    <tr>\n",
       "      <th>25992</th>\n",
       "      <td>912424</td>\n",
       "      <td>20220228</td>\n",
       "      <td>-4</td>\n",
       "      <td>0</td>\n",
       "    </tr>\n",
       "  </tbody>\n",
       "</table>\n",
       "<p>25993 rows × 4 columns</p>\n",
       "</div>"
      ],
      "text/plain": [
       "            0         1      2      3\n",
       "0       SOUID      DATE     TG   Q_TG\n",
       "1      100661  19510101    -69      0\n",
       "2      100661  19510102     16      0\n",
       "3      100661  19510103     22      0\n",
       "4      100661  19510104     -5      0\n",
       "...       ...       ...    ...    ...\n",
       "25988  912424  20220224     41      0\n",
       "25989  912424  20220225     59      0\n",
       "25990  912424  20220226     36      0\n",
       "25991  912424  20220227      9      0\n",
       "25992  912424  20220228     -4      0\n",
       "\n",
       "[25993 rows x 4 columns]"
      ]
     },
     "execution_count": 2,
     "metadata": {},
     "output_type": "execute_result"
    }
   ],
   "source": [
    "data = pd.read_csv('./Meteo_Data/Wroclaw_mean.txt', header = None)\n",
    "data"
   ]
  },
  {
   "cell_type": "code",
   "execution_count": 3,
   "id": "cf9cf6bf",
   "metadata": {},
   "outputs": [
    {
     "data": {
      "text/html": [
       "<div>\n",
       "<style scoped>\n",
       "    .dataframe tbody tr th:only-of-type {\n",
       "        vertical-align: middle;\n",
       "    }\n",
       "\n",
       "    .dataframe tbody tr th {\n",
       "        vertical-align: top;\n",
       "    }\n",
       "\n",
       "    .dataframe thead th {\n",
       "        text-align: right;\n",
       "    }\n",
       "</style>\n",
       "<table border=\"1\" class=\"dataframe\">\n",
       "  <thead>\n",
       "    <tr style=\"text-align: right;\">\n",
       "      <th></th>\n",
       "      <th>Index</th>\n",
       "      <th>Date</th>\n",
       "      <th>Temp*10</th>\n",
       "      <th>Valid</th>\n",
       "    </tr>\n",
       "  </thead>\n",
       "  <tbody>\n",
       "    <tr>\n",
       "      <th>0</th>\n",
       "      <td>SOUID</td>\n",
       "      <td>DATE</td>\n",
       "      <td>TG</td>\n",
       "      <td>Q_TG</td>\n",
       "    </tr>\n",
       "    <tr>\n",
       "      <th>1</th>\n",
       "      <td>100661</td>\n",
       "      <td>19510101</td>\n",
       "      <td>-69</td>\n",
       "      <td>0</td>\n",
       "    </tr>\n",
       "    <tr>\n",
       "      <th>2</th>\n",
       "      <td>100661</td>\n",
       "      <td>19510102</td>\n",
       "      <td>16</td>\n",
       "      <td>0</td>\n",
       "    </tr>\n",
       "    <tr>\n",
       "      <th>3</th>\n",
       "      <td>100661</td>\n",
       "      <td>19510103</td>\n",
       "      <td>22</td>\n",
       "      <td>0</td>\n",
       "    </tr>\n",
       "    <tr>\n",
       "      <th>4</th>\n",
       "      <td>100661</td>\n",
       "      <td>19510104</td>\n",
       "      <td>-5</td>\n",
       "      <td>0</td>\n",
       "    </tr>\n",
       "    <tr>\n",
       "      <th>...</th>\n",
       "      <td>...</td>\n",
       "      <td>...</td>\n",
       "      <td>...</td>\n",
       "      <td>...</td>\n",
       "    </tr>\n",
       "    <tr>\n",
       "      <th>25988</th>\n",
       "      <td>912424</td>\n",
       "      <td>20220224</td>\n",
       "      <td>41</td>\n",
       "      <td>0</td>\n",
       "    </tr>\n",
       "    <tr>\n",
       "      <th>25989</th>\n",
       "      <td>912424</td>\n",
       "      <td>20220225</td>\n",
       "      <td>59</td>\n",
       "      <td>0</td>\n",
       "    </tr>\n",
       "    <tr>\n",
       "      <th>25990</th>\n",
       "      <td>912424</td>\n",
       "      <td>20220226</td>\n",
       "      <td>36</td>\n",
       "      <td>0</td>\n",
       "    </tr>\n",
       "    <tr>\n",
       "      <th>25991</th>\n",
       "      <td>912424</td>\n",
       "      <td>20220227</td>\n",
       "      <td>9</td>\n",
       "      <td>0</td>\n",
       "    </tr>\n",
       "    <tr>\n",
       "      <th>25992</th>\n",
       "      <td>912424</td>\n",
       "      <td>20220228</td>\n",
       "      <td>-4</td>\n",
       "      <td>0</td>\n",
       "    </tr>\n",
       "  </tbody>\n",
       "</table>\n",
       "<p>25993 rows × 4 columns</p>\n",
       "</div>"
      ],
      "text/plain": [
       "        Index      Date Temp*10  Valid\n",
       "0       SOUID      DATE      TG   Q_TG\n",
       "1      100661  19510101     -69      0\n",
       "2      100661  19510102      16      0\n",
       "3      100661  19510103      22      0\n",
       "4      100661  19510104      -5      0\n",
       "...       ...       ...     ...    ...\n",
       "25988  912424  20220224      41      0\n",
       "25989  912424  20220225      59      0\n",
       "25990  912424  20220226      36      0\n",
       "25991  912424  20220227       9      0\n",
       "25992  912424  20220228      -4      0\n",
       "\n",
       "[25993 rows x 4 columns]"
      ]
     },
     "execution_count": 3,
     "metadata": {},
     "output_type": "execute_result"
    }
   ],
   "source": [
    "data.columns = ['Index','Date','Temp*10','Valid']\n",
    "data"
   ]
  },
  {
   "cell_type": "code",
   "execution_count": 4,
   "id": "5235208b",
   "metadata": {},
   "outputs": [],
   "source": [
    "## Deleting not necessary columns"
   ]
  },
  {
   "cell_type": "code",
   "execution_count": 5,
   "id": "d77761b5",
   "metadata": {
    "scrolled": true
   },
   "outputs": [
    {
     "data": {
      "text/html": [
       "<div>\n",
       "<style scoped>\n",
       "    .dataframe tbody tr th:only-of-type {\n",
       "        vertical-align: middle;\n",
       "    }\n",
       "\n",
       "    .dataframe tbody tr th {\n",
       "        vertical-align: top;\n",
       "    }\n",
       "\n",
       "    .dataframe thead th {\n",
       "        text-align: right;\n",
       "    }\n",
       "</style>\n",
       "<table border=\"1\" class=\"dataframe\">\n",
       "  <thead>\n",
       "    <tr style=\"text-align: right;\">\n",
       "      <th></th>\n",
       "      <th>Index</th>\n",
       "      <th>Date</th>\n",
       "      <th>Temp*10</th>\n",
       "      <th>Valid</th>\n",
       "    </tr>\n",
       "  </thead>\n",
       "  <tbody>\n",
       "    <tr>\n",
       "      <th>1</th>\n",
       "      <td>100661</td>\n",
       "      <td>19510101</td>\n",
       "      <td>-69</td>\n",
       "      <td>0</td>\n",
       "    </tr>\n",
       "    <tr>\n",
       "      <th>2</th>\n",
       "      <td>100661</td>\n",
       "      <td>19510102</td>\n",
       "      <td>16</td>\n",
       "      <td>0</td>\n",
       "    </tr>\n",
       "    <tr>\n",
       "      <th>3</th>\n",
       "      <td>100661</td>\n",
       "      <td>19510103</td>\n",
       "      <td>22</td>\n",
       "      <td>0</td>\n",
       "    </tr>\n",
       "    <tr>\n",
       "      <th>4</th>\n",
       "      <td>100661</td>\n",
       "      <td>19510104</td>\n",
       "      <td>-5</td>\n",
       "      <td>0</td>\n",
       "    </tr>\n",
       "    <tr>\n",
       "      <th>5</th>\n",
       "      <td>100661</td>\n",
       "      <td>19510105</td>\n",
       "      <td>19</td>\n",
       "      <td>0</td>\n",
       "    </tr>\n",
       "    <tr>\n",
       "      <th>...</th>\n",
       "      <td>...</td>\n",
       "      <td>...</td>\n",
       "      <td>...</td>\n",
       "      <td>...</td>\n",
       "    </tr>\n",
       "    <tr>\n",
       "      <th>25988</th>\n",
       "      <td>912424</td>\n",
       "      <td>20220224</td>\n",
       "      <td>41</td>\n",
       "      <td>0</td>\n",
       "    </tr>\n",
       "    <tr>\n",
       "      <th>25989</th>\n",
       "      <td>912424</td>\n",
       "      <td>20220225</td>\n",
       "      <td>59</td>\n",
       "      <td>0</td>\n",
       "    </tr>\n",
       "    <tr>\n",
       "      <th>25990</th>\n",
       "      <td>912424</td>\n",
       "      <td>20220226</td>\n",
       "      <td>36</td>\n",
       "      <td>0</td>\n",
       "    </tr>\n",
       "    <tr>\n",
       "      <th>25991</th>\n",
       "      <td>912424</td>\n",
       "      <td>20220227</td>\n",
       "      <td>9</td>\n",
       "      <td>0</td>\n",
       "    </tr>\n",
       "    <tr>\n",
       "      <th>25992</th>\n",
       "      <td>912424</td>\n",
       "      <td>20220228</td>\n",
       "      <td>-4</td>\n",
       "      <td>0</td>\n",
       "    </tr>\n",
       "  </tbody>\n",
       "</table>\n",
       "<p>25992 rows × 4 columns</p>\n",
       "</div>"
      ],
      "text/plain": [
       "        Index      Date Temp*10  Valid\n",
       "1      100661  19510101     -69      0\n",
       "2      100661  19510102      16      0\n",
       "3      100661  19510103      22      0\n",
       "4      100661  19510104      -5      0\n",
       "5      100661  19510105      19      0\n",
       "...       ...       ...     ...    ...\n",
       "25988  912424  20220224      41      0\n",
       "25989  912424  20220225      59      0\n",
       "25990  912424  20220226      36      0\n",
       "25991  912424  20220227       9      0\n",
       "25992  912424  20220228      -4      0\n",
       "\n",
       "[25992 rows x 4 columns]"
      ]
     },
     "execution_count": 5,
     "metadata": {},
     "output_type": "execute_result"
    }
   ],
   "source": [
    "data.drop(0,inplace=True)\n",
    "data"
   ]
  },
  {
   "cell_type": "code",
   "execution_count": 6,
   "id": "c3ed994e",
   "metadata": {},
   "outputs": [
    {
     "data": {
      "text/html": [
       "<div>\n",
       "<style scoped>\n",
       "    .dataframe tbody tr th:only-of-type {\n",
       "        vertical-align: middle;\n",
       "    }\n",
       "\n",
       "    .dataframe tbody tr th {\n",
       "        vertical-align: top;\n",
       "    }\n",
       "\n",
       "    .dataframe thead th {\n",
       "        text-align: right;\n",
       "    }\n",
       "</style>\n",
       "<table border=\"1\" class=\"dataframe\">\n",
       "  <thead>\n",
       "    <tr style=\"text-align: right;\">\n",
       "      <th></th>\n",
       "      <th>Date</th>\n",
       "      <th>Temp*10</th>\n",
       "    </tr>\n",
       "  </thead>\n",
       "  <tbody>\n",
       "    <tr>\n",
       "      <th>1</th>\n",
       "      <td>19510101</td>\n",
       "      <td>-69</td>\n",
       "    </tr>\n",
       "    <tr>\n",
       "      <th>2</th>\n",
       "      <td>19510102</td>\n",
       "      <td>16</td>\n",
       "    </tr>\n",
       "    <tr>\n",
       "      <th>3</th>\n",
       "      <td>19510103</td>\n",
       "      <td>22</td>\n",
       "    </tr>\n",
       "    <tr>\n",
       "      <th>4</th>\n",
       "      <td>19510104</td>\n",
       "      <td>-5</td>\n",
       "    </tr>\n",
       "    <tr>\n",
       "      <th>5</th>\n",
       "      <td>19510105</td>\n",
       "      <td>19</td>\n",
       "    </tr>\n",
       "    <tr>\n",
       "      <th>...</th>\n",
       "      <td>...</td>\n",
       "      <td>...</td>\n",
       "    </tr>\n",
       "    <tr>\n",
       "      <th>25988</th>\n",
       "      <td>20220224</td>\n",
       "      <td>41</td>\n",
       "    </tr>\n",
       "    <tr>\n",
       "      <th>25989</th>\n",
       "      <td>20220225</td>\n",
       "      <td>59</td>\n",
       "    </tr>\n",
       "    <tr>\n",
       "      <th>25990</th>\n",
       "      <td>20220226</td>\n",
       "      <td>36</td>\n",
       "    </tr>\n",
       "    <tr>\n",
       "      <th>25991</th>\n",
       "      <td>20220227</td>\n",
       "      <td>9</td>\n",
       "    </tr>\n",
       "    <tr>\n",
       "      <th>25992</th>\n",
       "      <td>20220228</td>\n",
       "      <td>-4</td>\n",
       "    </tr>\n",
       "  </tbody>\n",
       "</table>\n",
       "<p>25992 rows × 2 columns</p>\n",
       "</div>"
      ],
      "text/plain": [
       "           Date Temp*10\n",
       "1      19510101     -69\n",
       "2      19510102      16\n",
       "3      19510103      22\n",
       "4      19510104      -5\n",
       "5      19510105      19\n",
       "...         ...     ...\n",
       "25988  20220224      41\n",
       "25989  20220225      59\n",
       "25990  20220226      36\n",
       "25991  20220227       9\n",
       "25992  20220228      -4\n",
       "\n",
       "[25992 rows x 2 columns]"
      ]
     },
     "execution_count": 6,
     "metadata": {},
     "output_type": "execute_result"
    }
   ],
   "source": [
    "data.drop(axis=1,columns=['Index','Valid'],inplace=True)\n",
    "data"
   ]
  },
  {
   "cell_type": "code",
   "execution_count": 7,
   "id": "4c881848",
   "metadata": {},
   "outputs": [],
   "source": [
    "## changing str -> int in column temp"
   ]
  },
  {
   "cell_type": "code",
   "execution_count": 8,
   "id": "3e233e34",
   "metadata": {},
   "outputs": [],
   "source": [
    "data['Temp*10'] = data['Temp*10'].astype(int)"
   ]
  },
  {
   "cell_type": "code",
   "execution_count": 9,
   "id": "f09c0e98",
   "metadata": {},
   "outputs": [],
   "source": [
    "## Dividing Temp by 10 to get decent temperature according to data"
   ]
  },
  {
   "cell_type": "code",
   "execution_count": 10,
   "id": "27873947",
   "metadata": {},
   "outputs": [
    {
     "data": {
      "text/html": [
       "<div>\n",
       "<style scoped>\n",
       "    .dataframe tbody tr th:only-of-type {\n",
       "        vertical-align: middle;\n",
       "    }\n",
       "\n",
       "    .dataframe tbody tr th {\n",
       "        vertical-align: top;\n",
       "    }\n",
       "\n",
       "    .dataframe thead th {\n",
       "        text-align: right;\n",
       "    }\n",
       "</style>\n",
       "<table border=\"1\" class=\"dataframe\">\n",
       "  <thead>\n",
       "    <tr style=\"text-align: right;\">\n",
       "      <th></th>\n",
       "      <th>Date</th>\n",
       "      <th>Temp*10</th>\n",
       "    </tr>\n",
       "  </thead>\n",
       "  <tbody>\n",
       "    <tr>\n",
       "      <th>1</th>\n",
       "      <td>19510101</td>\n",
       "      <td>-6.9</td>\n",
       "    </tr>\n",
       "    <tr>\n",
       "      <th>2</th>\n",
       "      <td>19510102</td>\n",
       "      <td>1.6</td>\n",
       "    </tr>\n",
       "    <tr>\n",
       "      <th>3</th>\n",
       "      <td>19510103</td>\n",
       "      <td>2.2</td>\n",
       "    </tr>\n",
       "    <tr>\n",
       "      <th>4</th>\n",
       "      <td>19510104</td>\n",
       "      <td>-0.5</td>\n",
       "    </tr>\n",
       "    <tr>\n",
       "      <th>5</th>\n",
       "      <td>19510105</td>\n",
       "      <td>1.9</td>\n",
       "    </tr>\n",
       "    <tr>\n",
       "      <th>...</th>\n",
       "      <td>...</td>\n",
       "      <td>...</td>\n",
       "    </tr>\n",
       "    <tr>\n",
       "      <th>25988</th>\n",
       "      <td>20220224</td>\n",
       "      <td>4.1</td>\n",
       "    </tr>\n",
       "    <tr>\n",
       "      <th>25989</th>\n",
       "      <td>20220225</td>\n",
       "      <td>5.9</td>\n",
       "    </tr>\n",
       "    <tr>\n",
       "      <th>25990</th>\n",
       "      <td>20220226</td>\n",
       "      <td>3.6</td>\n",
       "    </tr>\n",
       "    <tr>\n",
       "      <th>25991</th>\n",
       "      <td>20220227</td>\n",
       "      <td>0.9</td>\n",
       "    </tr>\n",
       "    <tr>\n",
       "      <th>25992</th>\n",
       "      <td>20220228</td>\n",
       "      <td>-0.4</td>\n",
       "    </tr>\n",
       "  </tbody>\n",
       "</table>\n",
       "<p>25992 rows × 2 columns</p>\n",
       "</div>"
      ],
      "text/plain": [
       "           Date  Temp*10\n",
       "1      19510101     -6.9\n",
       "2      19510102      1.6\n",
       "3      19510103      2.2\n",
       "4      19510104     -0.5\n",
       "5      19510105      1.9\n",
       "...         ...      ...\n",
       "25988  20220224      4.1\n",
       "25989  20220225      5.9\n",
       "25990  20220226      3.6\n",
       "25991  20220227      0.9\n",
       "25992  20220228     -0.4\n",
       "\n",
       "[25992 rows x 2 columns]"
      ]
     },
     "execution_count": 10,
     "metadata": {},
     "output_type": "execute_result"
    }
   ],
   "source": [
    "data['Temp*10'] /=10\n",
    "data"
   ]
  },
  {
   "cell_type": "code",
   "execution_count": 11,
   "id": "f25c813a",
   "metadata": {},
   "outputs": [
    {
     "data": {
      "text/html": [
       "<div>\n",
       "<style scoped>\n",
       "    .dataframe tbody tr th:only-of-type {\n",
       "        vertical-align: middle;\n",
       "    }\n",
       "\n",
       "    .dataframe tbody tr th {\n",
       "        vertical-align: top;\n",
       "    }\n",
       "\n",
       "    .dataframe thead th {\n",
       "        text-align: right;\n",
       "    }\n",
       "</style>\n",
       "<table border=\"1\" class=\"dataframe\">\n",
       "  <thead>\n",
       "    <tr style=\"text-align: right;\">\n",
       "      <th></th>\n",
       "      <th>Date</th>\n",
       "      <th>Temp</th>\n",
       "    </tr>\n",
       "  </thead>\n",
       "  <tbody>\n",
       "    <tr>\n",
       "      <th>1</th>\n",
       "      <td>19510101</td>\n",
       "      <td>-6.9</td>\n",
       "    </tr>\n",
       "    <tr>\n",
       "      <th>2</th>\n",
       "      <td>19510102</td>\n",
       "      <td>1.6</td>\n",
       "    </tr>\n",
       "    <tr>\n",
       "      <th>3</th>\n",
       "      <td>19510103</td>\n",
       "      <td>2.2</td>\n",
       "    </tr>\n",
       "    <tr>\n",
       "      <th>4</th>\n",
       "      <td>19510104</td>\n",
       "      <td>-0.5</td>\n",
       "    </tr>\n",
       "    <tr>\n",
       "      <th>5</th>\n",
       "      <td>19510105</td>\n",
       "      <td>1.9</td>\n",
       "    </tr>\n",
       "    <tr>\n",
       "      <th>...</th>\n",
       "      <td>...</td>\n",
       "      <td>...</td>\n",
       "    </tr>\n",
       "    <tr>\n",
       "      <th>25988</th>\n",
       "      <td>20220224</td>\n",
       "      <td>4.1</td>\n",
       "    </tr>\n",
       "    <tr>\n",
       "      <th>25989</th>\n",
       "      <td>20220225</td>\n",
       "      <td>5.9</td>\n",
       "    </tr>\n",
       "    <tr>\n",
       "      <th>25990</th>\n",
       "      <td>20220226</td>\n",
       "      <td>3.6</td>\n",
       "    </tr>\n",
       "    <tr>\n",
       "      <th>25991</th>\n",
       "      <td>20220227</td>\n",
       "      <td>0.9</td>\n",
       "    </tr>\n",
       "    <tr>\n",
       "      <th>25992</th>\n",
       "      <td>20220228</td>\n",
       "      <td>-0.4</td>\n",
       "    </tr>\n",
       "  </tbody>\n",
       "</table>\n",
       "<p>25992 rows × 2 columns</p>\n",
       "</div>"
      ],
      "text/plain": [
       "           Date  Temp\n",
       "1      19510101  -6.9\n",
       "2      19510102   1.6\n",
       "3      19510103   2.2\n",
       "4      19510104  -0.5\n",
       "5      19510105   1.9\n",
       "...         ...   ...\n",
       "25988  20220224   4.1\n",
       "25989  20220225   5.9\n",
       "25990  20220226   3.6\n",
       "25991  20220227   0.9\n",
       "25992  20220228  -0.4\n",
       "\n",
       "[25992 rows x 2 columns]"
      ]
     },
     "execution_count": 11,
     "metadata": {},
     "output_type": "execute_result"
    }
   ],
   "source": [
    "data.columns = ['Date','Temp']\n",
    "data"
   ]
  },
  {
   "cell_type": "code",
   "execution_count": 12,
   "id": "73cbe8a0",
   "metadata": {},
   "outputs": [],
   "source": [
    "# Assesing mean temperature with mean day temperature"
   ]
  },
  {
   "cell_type": "code",
   "execution_count": 13,
   "id": "2efb455d",
   "metadata": {},
   "outputs": [
    {
     "name": "stdout",
     "output_type": "stream",
     "text": [
      "9.302739726027399\n"
     ]
    }
   ],
   "source": [
    "data1951 = data[\"Date\"].str.startswith('1951')\n",
    "df1951 = data[data1951]\n",
    "mean1951 = df1951['Temp'].mean()\n",
    "print(mean1951)"
   ]
  },
  {
   "cell_type": "code",
   "execution_count": 14,
   "id": "89ce7a31",
   "metadata": {},
   "outputs": [
    {
     "name": "stdout",
     "output_type": "stream",
     "text": [
      "8.077049180327865\n"
     ]
    }
   ],
   "source": [
    "data1952 = data[\"Date\"].str.startswith('1952')\n",
    "df1952 = data[data1952]\n",
    "mean1952 = df1952['Temp'].mean()\n",
    "print(mean1952)"
   ]
  },
  {
   "cell_type": "code",
   "execution_count": 15,
   "id": "684ac5bc",
   "metadata": {},
   "outputs": [
    {
     "name": "stdout",
     "output_type": "stream",
     "text": [
      "9.409041095890416\n"
     ]
    }
   ],
   "source": [
    "data1953 = data[\"Date\"].str.startswith('1953')\n",
    "df1953 = data[data1953]\n",
    "mean1953 = df1953['Temp'].mean()\n",
    "print(mean1953)"
   ]
  },
  {
   "cell_type": "code",
   "execution_count": 16,
   "id": "44cebce7",
   "metadata": {},
   "outputs": [
    {
     "name": "stdout",
     "output_type": "stream",
     "text": [
      "7.816712328767121\n"
     ]
    }
   ],
   "source": [
    "data1954 = data[\"Date\"].str.startswith('1954')\n",
    "df1954 = data[data1954]\n",
    "mean1954 = df1954['Temp'].mean()\n",
    "print(mean1954)"
   ]
  },
  {
   "cell_type": "code",
   "execution_count": 17,
   "id": "ad7784db",
   "metadata": {},
   "outputs": [
    {
     "name": "stdout",
     "output_type": "stream",
     "text": [
      "7.787671232876714\n"
     ]
    }
   ],
   "source": [
    "data1955 = data[\"Date\"].str.startswith('1955')\n",
    "df1955 = data[data1955]\n",
    "mean1955 = df1955['Temp'].mean()\n",
    "print(mean1955)\n"
   ]
  },
  {
   "cell_type": "code",
   "execution_count": 18,
   "id": "65adf497",
   "metadata": {},
   "outputs": [
    {
     "name": "stdout",
     "output_type": "stream",
     "text": [
      "6.77622950819672\n"
     ]
    }
   ],
   "source": [
    "data1956 = data[\"Date\"].str.startswith('1956')\n",
    "df1956 = data[data1956]\n",
    "mean1956 = df1956['Temp'].mean()\n",
    "print(mean1956)\n"
   ]
  },
  {
   "cell_type": "code",
   "execution_count": 19,
   "id": "ab4fd04a",
   "metadata": {},
   "outputs": [
    {
     "name": "stdout",
     "output_type": "stream",
     "text": [
      "8.855342465753424\n"
     ]
    }
   ],
   "source": [
    "data1957 = data[\"Date\"].str.startswith('1957')\n",
    "df1957 = data[data1957]\n",
    "mean1957 = df1957['Temp'].mean()\n",
    "print(mean1957)\n"
   ]
  },
  {
   "cell_type": "code",
   "execution_count": 20,
   "id": "07989669",
   "metadata": {},
   "outputs": [
    {
     "name": "stdout",
     "output_type": "stream",
     "text": [
      "8.4213698630137\n"
     ]
    }
   ],
   "source": [
    "data1958 = data[\"Date\"].str.startswith('1958')\n",
    "df1958 = data[data1958]\n",
    "mean1958 = df1958['Temp'].mean()\n",
    "print(mean1958)\n"
   ]
  },
  {
   "cell_type": "code",
   "execution_count": 21,
   "id": "a3967984",
   "metadata": {},
   "outputs": [
    {
     "name": "stdout",
     "output_type": "stream",
     "text": [
      "8.932054794520553\n"
     ]
    }
   ],
   "source": [
    "data1959 = data[\"Date\"].str.startswith('1959')\n",
    "df1959 = data[data1959]\n",
    "mean1959 = df1959['Temp'].mean()\n",
    "print(mean1959)\n"
   ]
  },
  {
   "cell_type": "code",
   "execution_count": 22,
   "id": "7593629e",
   "metadata": {},
   "outputs": [
    {
     "name": "stdout",
     "output_type": "stream",
     "text": [
      "8.536338797814206\n"
     ]
    }
   ],
   "source": [
    "data1960 = data[\"Date\"].str.startswith('1960')\n",
    "df1960 = data[data1960]\n",
    "mean1960 = df1960['Temp'].mean()\n",
    "print(mean1960)\n"
   ]
  },
  {
   "cell_type": "code",
   "execution_count": 23,
   "id": "6a73c347",
   "metadata": {},
   "outputs": [
    {
     "name": "stdout",
     "output_type": "stream",
     "text": [
      "8.91835616438356\n"
     ]
    }
   ],
   "source": [
    "data1961 = data[\"Date\"].str.startswith('1961')\n",
    "df1961 = data[data1961]\n",
    "mean1961 = df1961['Temp'].mean()\n",
    "print(mean1961)\n"
   ]
  },
  {
   "cell_type": "code",
   "execution_count": 24,
   "id": "8a09305c",
   "metadata": {},
   "outputs": [
    {
     "name": "stdout",
     "output_type": "stream",
     "text": [
      "7.660821917808226\n"
     ]
    }
   ],
   "source": [
    "data1962 = data[\"Date\"].str.startswith('1962')\n",
    "df1962 = data[data1962]\n",
    "mean1962 = df1962['Temp'].mean()\n",
    "print(mean1962)\n"
   ]
  },
  {
   "cell_type": "code",
   "execution_count": 25,
   "id": "8f2a18f0",
   "metadata": {},
   "outputs": [
    {
     "name": "stdout",
     "output_type": "stream",
     "text": [
      "7.433972602739725\n"
     ]
    }
   ],
   "source": [
    "data1963 = data[\"Date\"].str.startswith('1963')\n",
    "df1963 = data[data1963]\n",
    "mean1963 = df1963['Temp'].mean()\n",
    "print(mean1963)\n"
   ]
  },
  {
   "cell_type": "code",
   "execution_count": 26,
   "id": "0e47cd0f",
   "metadata": {},
   "outputs": [
    {
     "name": "stdout",
     "output_type": "stream",
     "text": [
      "8.082513661202187\n"
     ]
    }
   ],
   "source": [
    "data1964 = data[\"Date\"].str.startswith('1964')\n",
    "df1964 = data[data1964]\n",
    "mean1964 = df1964['Temp'].mean()\n",
    "print(mean1964)\n"
   ]
  },
  {
   "cell_type": "code",
   "execution_count": 27,
   "id": "8216300d",
   "metadata": {},
   "outputs": [
    {
     "name": "stdout",
     "output_type": "stream",
     "text": [
      "7.442739726027393\n"
     ]
    }
   ],
   "source": [
    "data1965 = data[\"Date\"].str.startswith('1965')\n",
    "df1965 = data[data1965]\n",
    "mean1965 = df1965['Temp'].mean()\n",
    "print(mean1965)\n"
   ]
  },
  {
   "cell_type": "code",
   "execution_count": 28,
   "id": "8fdae230",
   "metadata": {},
   "outputs": [
    {
     "name": "stdout",
     "output_type": "stream",
     "text": [
      "8.6772602739726\n"
     ]
    }
   ],
   "source": [
    "data1966 = data[\"Date\"].str.startswith('1966')\n",
    "df1966 = data[data1966]\n",
    "mean1966 = df1966['Temp'].mean()\n",
    "print(mean1966)\n"
   ]
  },
  {
   "cell_type": "code",
   "execution_count": 29,
   "id": "82899708",
   "metadata": {},
   "outputs": [
    {
     "name": "stdout",
     "output_type": "stream",
     "text": [
      "9.328493150684944\n"
     ]
    }
   ],
   "source": [
    "data1967 = data[\"Date\"].str.startswith('1967')\n",
    "df1967 = data[data1967]\n",
    "mean1967 = df1967['Temp'].mean()\n",
    "print(mean1967)\n"
   ]
  },
  {
   "cell_type": "code",
   "execution_count": 30,
   "id": "e018223c",
   "metadata": {},
   "outputs": [
    {
     "name": "stdout",
     "output_type": "stream",
     "text": [
      "8.345901639344257\n"
     ]
    }
   ],
   "source": [
    "data1968 = data[\"Date\"].str.startswith('1968')\n",
    "df1968 = data[data1968]\n",
    "mean1968 = df1968['Temp'].mean()\n",
    "print(mean1968)\n"
   ]
  },
  {
   "cell_type": "code",
   "execution_count": 31,
   "id": "d59c0407",
   "metadata": {},
   "outputs": [
    {
     "name": "stdout",
     "output_type": "stream",
     "text": [
      "7.551780821917817\n"
     ]
    }
   ],
   "source": [
    "data1969 = data[\"Date\"].str.startswith('1969')\n",
    "df1969 = data[data1969]\n",
    "mean1969 = df1969['Temp'].mean()\n",
    "print(mean1969)\n"
   ]
  },
  {
   "cell_type": "code",
   "execution_count": 32,
   "id": "60b41784",
   "metadata": {},
   "outputs": [
    {
     "name": "stdout",
     "output_type": "stream",
     "text": [
      "7.716438356164379\n"
     ]
    }
   ],
   "source": [
    "data1970 = data[\"Date\"].str.startswith('1970')\n",
    "df1970 = data[data1970]\n",
    "mean1970 = df1970['Temp'].mean()\n",
    "print(mean1970)\n"
   ]
  },
  {
   "cell_type": "code",
   "execution_count": 33,
   "id": "bb5a562e",
   "metadata": {},
   "outputs": [
    {
     "name": "stdout",
     "output_type": "stream",
     "text": [
      "8.459178082191775\n"
     ]
    }
   ],
   "source": [
    "data1971 = data[\"Date\"].str.startswith('1971')\n",
    "df1971 = data[data1971]\n",
    "mean1971 = df1971['Temp'].mean()\n",
    "print(mean1971)"
   ]
  },
  {
   "cell_type": "code",
   "execution_count": 34,
   "id": "4a30039a",
   "metadata": {},
   "outputs": [
    {
     "name": "stdout",
     "output_type": "stream",
     "text": [
      "8.141803278688528\n"
     ]
    }
   ],
   "source": [
    "data1972 = data[\"Date\"].str.startswith('1972')\n",
    "df1972 = data[data1972]\n",
    "mean1972 = df1972['Temp'].mean()\n",
    "print(mean1972)\n"
   ]
  },
  {
   "cell_type": "code",
   "execution_count": 35,
   "id": "78aa7e99",
   "metadata": {},
   "outputs": [
    {
     "name": "stdout",
     "output_type": "stream",
     "text": [
      "8.372876712328766\n"
     ]
    }
   ],
   "source": [
    "data1973 = data[\"Date\"].str.startswith('1973')\n",
    "df1973 = data[data1973]\n",
    "mean1973 = df1973['Temp'].mean()\n",
    "print(mean1973)\n"
   ]
  },
  {
   "cell_type": "code",
   "execution_count": 36,
   "id": "3d2ed036",
   "metadata": {},
   "outputs": [
    {
     "name": "stdout",
     "output_type": "stream",
     "text": [
      "8.914794520547948\n"
     ]
    }
   ],
   "source": [
    "data1974 = data[\"Date\"].str.startswith('1974')\n",
    "df1974 = data[data1974]\n",
    "mean1974 = df1974['Temp'].mean()\n",
    "print(mean1974)\n"
   ]
  },
  {
   "cell_type": "code",
   "execution_count": 37,
   "id": "e39a3601",
   "metadata": {},
   "outputs": [
    {
     "name": "stdout",
     "output_type": "stream",
     "text": [
      "9.262191780821917\n"
     ]
    }
   ],
   "source": [
    "data1975 = data[\"Date\"].str.startswith('1975')\n",
    "df1975 = data[data1975]\n",
    "mean1975 = df1975['Temp'].mean()\n",
    "print(mean1975)\n"
   ]
  },
  {
   "cell_type": "code",
   "execution_count": 38,
   "id": "3767f879",
   "metadata": {},
   "outputs": [
    {
     "name": "stdout",
     "output_type": "stream",
     "text": [
      "7.919945355191256\n"
     ]
    }
   ],
   "source": [
    "data1976 = data[\"Date\"].str.startswith('1976')\n",
    "df1976 = data[data1976]\n",
    "mean1976 = df1976['Temp'].mean()\n",
    "print(mean1976)\n"
   ]
  },
  {
   "cell_type": "code",
   "execution_count": 39,
   "id": "4f40ac7e",
   "metadata": {},
   "outputs": [
    {
     "name": "stdout",
     "output_type": "stream",
     "text": [
      "8.643561643835616\n"
     ]
    }
   ],
   "source": [
    "data1977 = data[\"Date\"].str.startswith('1977')\n",
    "df1977 = data[data1977]\n",
    "mean1977 = df1977['Temp'].mean()\n",
    "print(mean1977)\n"
   ]
  },
  {
   "cell_type": "code",
   "execution_count": 40,
   "id": "e72a555c",
   "metadata": {},
   "outputs": [
    {
     "name": "stdout",
     "output_type": "stream",
     "text": [
      "7.95945205479452\n"
     ]
    }
   ],
   "source": [
    "data1978 = data[\"Date\"].str.startswith('1978')\n",
    "df1978 = data[data1978]\n",
    "mean1978 = df1978['Temp'].mean()\n",
    "print(mean1978)\n"
   ]
  },
  {
   "cell_type": "code",
   "execution_count": 41,
   "id": "5cad2d79",
   "metadata": {},
   "outputs": [
    {
     "name": "stdout",
     "output_type": "stream",
     "text": [
      "8.173972602739726\n"
     ]
    }
   ],
   "source": [
    "data1979 = data[\"Date\"].str.startswith('1979')\n",
    "df1979 = data[data1979]\n",
    "mean1979 = df1979['Temp'].mean()\n",
    "print(mean1979)\n"
   ]
  },
  {
   "cell_type": "code",
   "execution_count": 42,
   "id": "47dc0e73",
   "metadata": {},
   "outputs": [
    {
     "name": "stdout",
     "output_type": "stream",
     "text": [
      "7.3185792349726775\n"
     ]
    }
   ],
   "source": [
    "data1980 = data[\"Date\"].str.startswith('1980')\n",
    "df1980 = data[data1980]\n",
    "mean1980 = df1980['Temp'].mean()\n",
    "print(mean1980)\n"
   ]
  },
  {
   "cell_type": "code",
   "execution_count": 43,
   "id": "9aca0d63",
   "metadata": {},
   "outputs": [
    {
     "name": "stdout",
     "output_type": "stream",
     "text": [
      "8.677260273972601\n"
     ]
    }
   ],
   "source": [
    "data1981 = data[\"Date\"].str.startswith('1981')\n",
    "df1981 = data[data1981]\n",
    "mean1981 = df1981['Temp'].mean()\n",
    "print(mean1981)\n"
   ]
  },
  {
   "cell_type": "code",
   "execution_count": 44,
   "id": "3c639612",
   "metadata": {},
   "outputs": [
    {
     "name": "stdout",
     "output_type": "stream",
     "text": [
      "9.046301369863011\n"
     ]
    }
   ],
   "source": [
    "data1982 = data[\"Date\"].str.startswith('1982')\n",
    "df1982 = data[data1982]\n",
    "mean1982 = df1982['Temp'].mean()\n",
    "print(mean1982)\n"
   ]
  },
  {
   "cell_type": "code",
   "execution_count": 45,
   "id": "85911ee1",
   "metadata": {},
   "outputs": [
    {
     "name": "stdout",
     "output_type": "stream",
     "text": [
      "9.46547945205478\n"
     ]
    }
   ],
   "source": [
    "data1983 = data[\"Date\"].str.startswith('1983')\n",
    "df1983 = data[data1983]\n",
    "mean1983 = df1983['Temp'].mean()\n",
    "print(mean1983)\n"
   ]
  },
  {
   "cell_type": "code",
   "execution_count": 46,
   "id": "2e48feef",
   "metadata": {},
   "outputs": [
    {
     "name": "stdout",
     "output_type": "stream",
     "text": [
      "8.191530054644815\n"
     ]
    }
   ],
   "source": [
    "data1984 = data[\"Date\"].str.startswith('1984')\n",
    "df1984 = data[data1984]\n",
    "mean1984 = df1984['Temp'].mean()\n",
    "print(mean1984)\n"
   ]
  },
  {
   "cell_type": "code",
   "execution_count": 47,
   "id": "640e28de",
   "metadata": {},
   "outputs": [
    {
     "name": "stdout",
     "output_type": "stream",
     "text": [
      "7.426027397260269\n"
     ]
    }
   ],
   "source": [
    "data1985 = data[\"Date\"].str.startswith('1985')\n",
    "df1985 = data[data1985]\n",
    "mean1985 = df1985['Temp'].mean()\n",
    "print(mean1985)\n"
   ]
  },
  {
   "cell_type": "code",
   "execution_count": 48,
   "id": "9c464be2",
   "metadata": {},
   "outputs": [
    {
     "name": "stdout",
     "output_type": "stream",
     "text": [
      "8.060821917808214\n"
     ]
    }
   ],
   "source": [
    "data1986 = data[\"Date\"].str.startswith('1986')\n",
    "df1986 = data[data1986]\n",
    "mean1986 = df1986['Temp'].mean()\n",
    "print(mean1986)\n"
   ]
  },
  {
   "cell_type": "code",
   "execution_count": 49,
   "id": "c22358ef",
   "metadata": {},
   "outputs": [
    {
     "name": "stdout",
     "output_type": "stream",
     "text": [
      "7.392876712328766\n"
     ]
    }
   ],
   "source": [
    "data1987 = data[\"Date\"].str.startswith('1987')\n",
    "df1987 = data[data1987]\n",
    "mean1987 = df1987['Temp'].mean()\n",
    "print(mean1987)\n"
   ]
  },
  {
   "cell_type": "code",
   "execution_count": 50,
   "id": "eb4ac5c5",
   "metadata": {},
   "outputs": [
    {
     "name": "stdout",
     "output_type": "stream",
     "text": [
      "9.205191256830604\n"
     ]
    }
   ],
   "source": [
    "data1988 = data[\"Date\"].str.startswith('1988')\n",
    "df1988 = data[data1988]\n",
    "mean1988 = df1988['Temp'].mean()\n",
    "print(mean1988)\n"
   ]
  },
  {
   "cell_type": "code",
   "execution_count": 51,
   "id": "4e045abb",
   "metadata": {},
   "outputs": [
    {
     "name": "stdout",
     "output_type": "stream",
     "text": [
      "9.789863013698628\n"
     ]
    }
   ],
   "source": [
    "data1989 = data[\"Date\"].str.startswith('1989')\n",
    "df1989 = data[data1989]\n",
    "mean1989 = df1989['Temp'].mean()\n",
    "print(mean1989)\n"
   ]
  },
  {
   "cell_type": "code",
   "execution_count": 52,
   "id": "31e227c4",
   "metadata": {},
   "outputs": [
    {
     "name": "stdout",
     "output_type": "stream",
     "text": [
      "9.884657534246577\n"
     ]
    }
   ],
   "source": [
    "data1990 = data[\"Date\"].str.startswith('1990')\n",
    "df1990 = data[data1990]\n",
    "mean1990 = df1990['Temp'].mean()\n",
    "print(mean1990)\n"
   ]
  },
  {
   "cell_type": "code",
   "execution_count": 53,
   "id": "d9e8100f",
   "metadata": {},
   "outputs": [
    {
     "name": "stdout",
     "output_type": "stream",
     "text": [
      "8.492876712328767\n"
     ]
    }
   ],
   "source": [
    "data1991 = data[\"Date\"].str.startswith('1991')\n",
    "df1991 = data[data1991]\n",
    "mean1991 = df1991['Temp'].mean()\n",
    "print(mean1991)\n"
   ]
  },
  {
   "cell_type": "code",
   "execution_count": 54,
   "id": "666ae1d6",
   "metadata": {},
   "outputs": [
    {
     "name": "stdout",
     "output_type": "stream",
     "text": [
      "9.761475409836065\n"
     ]
    }
   ],
   "source": [
    "data1992 = data[\"Date\"].str.startswith('1992')\n",
    "df1992 = data[data1992]\n",
    "mean1992 = df1992['Temp'].mean()\n",
    "print(mean1992)\n"
   ]
  },
  {
   "cell_type": "code",
   "execution_count": 55,
   "id": "a77f4bae",
   "metadata": {},
   "outputs": [
    {
     "name": "stdout",
     "output_type": "stream",
     "text": [
      "8.728493150684924\n"
     ]
    }
   ],
   "source": [
    "data1993 = data[\"Date\"].str.startswith('1993')\n",
    "df1993 = data[data1993]\n",
    "mean1993 = df1993['Temp'].mean()\n",
    "print(mean1993)\n"
   ]
  },
  {
   "cell_type": "code",
   "execution_count": 56,
   "id": "07fce67f",
   "metadata": {},
   "outputs": [
    {
     "name": "stdout",
     "output_type": "stream",
     "text": [
      "9.810410958904109\n"
     ]
    }
   ],
   "source": [
    "data1994 = data[\"Date\"].str.startswith('1994')\n",
    "df1994 = data[data1994]\n",
    "mean1994 = df1994['Temp'].mean()\n",
    "print(mean1994)\n"
   ]
  },
  {
   "cell_type": "code",
   "execution_count": 57,
   "id": "bdbb7e55",
   "metadata": {},
   "outputs": [
    {
     "name": "stdout",
     "output_type": "stream",
     "text": [
      "8.950136986301374\n"
     ]
    }
   ],
   "source": [
    "data1995 = data[\"Date\"].str.startswith('1995')\n",
    "df1995 = data[data1995]\n",
    "mean1995 = df1995['Temp'].mean()\n",
    "print(mean1995)\n"
   ]
  },
  {
   "cell_type": "code",
   "execution_count": 58,
   "id": "2ffc151b",
   "metadata": {},
   "outputs": [
    {
     "name": "stdout",
     "output_type": "stream",
     "text": [
      "7.134699453551912\n"
     ]
    }
   ],
   "source": [
    "data1996 = data[\"Date\"].str.startswith('1996')\n",
    "df1996 = data[data1996]\n",
    "mean1996 = df1996['Temp'].mean()\n",
    "print(mean1996)\n"
   ]
  },
  {
   "cell_type": "code",
   "execution_count": 59,
   "id": "7ed1bea3",
   "metadata": {},
   "outputs": [
    {
     "name": "stdout",
     "output_type": "stream",
     "text": [
      "8.712876712328761\n"
     ]
    }
   ],
   "source": [
    "data1997 = data[\"Date\"].str.startswith('1997')\n",
    "df1997 = data[data1997]\n",
    "mean1997 = df1997['Temp'].mean()\n",
    "print(mean1997)\n"
   ]
  },
  {
   "cell_type": "code",
   "execution_count": 60,
   "id": "14be902b",
   "metadata": {},
   "outputs": [
    {
     "name": "stdout",
     "output_type": "stream",
     "text": [
      "9.34246575342467\n"
     ]
    }
   ],
   "source": [
    "data1998 = data[\"Date\"].str.startswith('1998')\n",
    "df1998 = data[data1998]\n",
    "mean1998 = df1998['Temp'].mean()\n",
    "print(mean1998)\n"
   ]
  },
  {
   "cell_type": "code",
   "execution_count": 61,
   "id": "bea58669",
   "metadata": {},
   "outputs": [
    {
     "name": "stdout",
     "output_type": "stream",
     "text": [
      "9.77808219178082\n"
     ]
    }
   ],
   "source": [
    "data1999 = data[\"Date\"].str.startswith('1999')\n",
    "df1999 = data[data1999]\n",
    "mean1999 = df1999['Temp'].mean()\n",
    "print(mean1999)\n"
   ]
  },
  {
   "cell_type": "code",
   "execution_count": 62,
   "id": "914a0185",
   "metadata": {},
   "outputs": [
    {
     "name": "stdout",
     "output_type": "stream",
     "text": [
      "10.38306010928962\n"
     ]
    }
   ],
   "source": [
    "data2000 = data[\"Date\"].str.startswith('2000')\n",
    "df2000 = data[data2000]\n",
    "mean2000 = df2000['Temp'].mean()\n",
    "print(mean2000)\n"
   ]
  },
  {
   "cell_type": "code",
   "execution_count": 63,
   "id": "fa4308db",
   "metadata": {},
   "outputs": [
    {
     "name": "stdout",
     "output_type": "stream",
     "text": [
      "9.101095890410964\n"
     ]
    }
   ],
   "source": [
    "data2001 = data[\"Date\"].str.startswith('2001')\n",
    "df2001 = data[data2001]\n",
    "mean2001 = df2001['Temp'].mean()\n",
    "print(mean2001)\n"
   ]
  },
  {
   "cell_type": "code",
   "execution_count": 64,
   "id": "e49cda92",
   "metadata": {},
   "outputs": [
    {
     "name": "stdout",
     "output_type": "stream",
     "text": [
      "9.973972602739735\n"
     ]
    }
   ],
   "source": [
    "data2002 = data[\"Date\"].str.startswith('2002')\n",
    "df2002 = data[data2002]\n",
    "mean2002 = df2002['Temp'].mean()\n",
    "print(mean2002)\n"
   ]
  },
  {
   "cell_type": "code",
   "execution_count": 65,
   "id": "4ba4d340",
   "metadata": {},
   "outputs": [
    {
     "name": "stdout",
     "output_type": "stream",
     "text": [
      "9.196986301369861\n"
     ]
    }
   ],
   "source": [
    "data2003 = data[\"Date\"].str.startswith('2003')\n",
    "df2003 = data[data2003]\n",
    "mean2003 = df2003['Temp'].mean()\n",
    "print(mean2003)\n"
   ]
  },
  {
   "cell_type": "code",
   "execution_count": 66,
   "id": "ff452186",
   "metadata": {},
   "outputs": [
    {
     "name": "stdout",
     "output_type": "stream",
     "text": [
      "9.312021857923497\n"
     ]
    }
   ],
   "source": [
    "data2004 = data[\"Date\"].str.startswith('2004')\n",
    "df2004 = data[data2004]\n",
    "mean2004 = df2004['Temp'].mean()\n",
    "print(mean2004)\n"
   ]
  },
  {
   "cell_type": "code",
   "execution_count": 67,
   "id": "0fae1111",
   "metadata": {},
   "outputs": [
    {
     "name": "stdout",
     "output_type": "stream",
     "text": [
      "9.111506849315068\n"
     ]
    }
   ],
   "source": [
    "data2005 = data[\"Date\"].str.startswith('2005')\n",
    "df2005 = data[data2005]\n",
    "mean2005 = df2005['Temp'].mean()\n",
    "print(mean2005)\n"
   ]
  },
  {
   "cell_type": "code",
   "execution_count": 68,
   "id": "c2b81196",
   "metadata": {},
   "outputs": [
    {
     "name": "stdout",
     "output_type": "stream",
     "text": [
      "9.495068493150683\n"
     ]
    }
   ],
   "source": [
    "data2006 = data[\"Date\"].str.startswith('2006')\n",
    "df2006 = data[data2006]\n",
    "mean2006 = df2006['Temp'].mean()\n",
    "print(mean2006)\n"
   ]
  },
  {
   "cell_type": "code",
   "execution_count": 69,
   "id": "6ae7623a",
   "metadata": {},
   "outputs": [
    {
     "name": "stdout",
     "output_type": "stream",
     "text": [
      "10.273424657534237\n"
     ]
    }
   ],
   "source": [
    "data2007 = data[\"Date\"].str.startswith('2007')\n",
    "df2007 = data[data2007]\n",
    "mean2007 = df2007['Temp'].mean()\n",
    "print(mean2007)\n"
   ]
  },
  {
   "cell_type": "code",
   "execution_count": 70,
   "id": "07239a3a",
   "metadata": {},
   "outputs": [
    {
     "name": "stdout",
     "output_type": "stream",
     "text": [
      "10.26229508196721\n"
     ]
    }
   ],
   "source": [
    "data2008 = data[\"Date\"].str.startswith('2008')\n",
    "df2008 = data[data2008]\n",
    "mean2008 = df2008['Temp'].mean()\n",
    "print(mean2008)\n"
   ]
  },
  {
   "cell_type": "code",
   "execution_count": 71,
   "id": "ef633d03",
   "metadata": {},
   "outputs": [
    {
     "name": "stdout",
     "output_type": "stream",
     "text": [
      "9.429041095890412\n"
     ]
    }
   ],
   "source": [
    "data2009 = data[\"Date\"].str.startswith('2009')\n",
    "df2009 = data[data2009]\n",
    "mean2009 = df2009['Temp'].mean()\n",
    "print(mean2009)\n"
   ]
  },
  {
   "cell_type": "code",
   "execution_count": 72,
   "id": "933607cc",
   "metadata": {},
   "outputs": [
    {
     "name": "stdout",
     "output_type": "stream",
     "text": [
      "8.192876712328763\n"
     ]
    }
   ],
   "source": [
    "data2010 = data[\"Date\"].str.startswith('2010')\n",
    "df2010 = data[data2010]\n",
    "mean2010 = df2010['Temp'].mean()\n",
    "print(mean2010)\n"
   ]
  },
  {
   "cell_type": "code",
   "execution_count": 73,
   "id": "ded6867d",
   "metadata": {},
   "outputs": [
    {
     "name": "stdout",
     "output_type": "stream",
     "text": [
      "9.929041095890401\n"
     ]
    }
   ],
   "source": [
    "data2011 = data[\"Date\"].str.startswith('2011')\n",
    "df2011 = data[data2011]\n",
    "mean2011 = df2011['Temp'].mean()\n",
    "print(mean2011)\n"
   ]
  },
  {
   "cell_type": "code",
   "execution_count": 74,
   "id": "a4a8bb47",
   "metadata": {},
   "outputs": [
    {
     "name": "stdout",
     "output_type": "stream",
     "text": [
      "9.512021857923493\n"
     ]
    }
   ],
   "source": [
    "data2012 = data[\"Date\"].str.startswith('2012')\n",
    "df2012 = data[data2012]\n",
    "mean2012 = df2012['Temp'].mean()\n",
    "print(mean2012)\n"
   ]
  },
  {
   "cell_type": "code",
   "execution_count": 75,
   "id": "bf87d604",
   "metadata": {},
   "outputs": [
    {
     "name": "stdout",
     "output_type": "stream",
     "text": [
      "9.464657534246573\n"
     ]
    }
   ],
   "source": [
    "data2013 = data[\"Date\"].str.startswith('2013')\n",
    "df2013 = data[data2013]\n",
    "mean2013 = df2013['Temp'].mean()\n",
    "print(mean2013)\n"
   ]
  },
  {
   "cell_type": "code",
   "execution_count": 76,
   "id": "e2a45eab",
   "metadata": {},
   "outputs": [
    {
     "name": "stdout",
     "output_type": "stream",
     "text": [
      "9.464657534246573\n"
     ]
    }
   ],
   "source": [
    "data2014 = data[\"Date\"].str.startswith('2014')\n",
    "df2014 = data[data2014]\n",
    "mean2014 = df2013['Temp'].mean()\n",
    "print(mean2014)\n"
   ]
  },
  {
   "cell_type": "code",
   "execution_count": 77,
   "id": "6fcce0b2",
   "metadata": {},
   "outputs": [
    {
     "name": "stdout",
     "output_type": "stream",
     "text": [
      "11.169315068493157\n"
     ]
    }
   ],
   "source": [
    "data2015 = data[\"Date\"].str.startswith('2015')\n",
    "df2015 = data[data2015]\n",
    "mean2015 = df2015['Temp'].mean()\n",
    "print(mean2015)\n"
   ]
  },
  {
   "cell_type": "code",
   "execution_count": 78,
   "id": "15e23e85",
   "metadata": {},
   "outputs": [
    {
     "name": "stdout",
     "output_type": "stream",
     "text": [
      "10.542076502732241\n"
     ]
    }
   ],
   "source": [
    "data2016 = data[\"Date\"].str.startswith('2016')\n",
    "df2016 = data[data2016]\n",
    "mean2016 = df2016['Temp'].mean()\n",
    "print(mean2016)\n"
   ]
  },
  {
   "cell_type": "code",
   "execution_count": 79,
   "id": "14ea67b4",
   "metadata": {},
   "outputs": [
    {
     "name": "stdout",
     "output_type": "stream",
     "text": [
      "10.578356164383566\n",
      "0\n"
     ]
    }
   ],
   "source": [
    "data2017 = data[\"Date\"].str.startswith('2017')\n",
    "df2017 = data[data2017]\n",
    "mean2017 = df2017['Temp'].mean()\n",
    "print(mean2017)\n",
    "days_above_30_2017 = len(df2017[df2017['Temp']>30])\n",
    "print(days_above_30_2017)"
   ]
  },
  {
   "cell_type": "code",
   "execution_count": 80,
   "id": "d8167ede",
   "metadata": {},
   "outputs": [
    {
     "name": "stdout",
     "output_type": "stream",
     "text": [
      "11.40356164383562\n"
     ]
    }
   ],
   "source": [
    "data2018 = data[\"Date\"].str.startswith('2018')\n",
    "df2018 = data[data2018]\n",
    "mean2018 = df2018['Temp'].mean()\n",
    "print(mean2018)\n"
   ]
  },
  {
   "cell_type": "code",
   "execution_count": 81,
   "id": "f6948776",
   "metadata": {},
   "outputs": [
    {
     "name": "stdout",
     "output_type": "stream",
     "text": [
      "11.569863013698638\n"
     ]
    }
   ],
   "source": [
    "data2019 = data[\"Date\"].str.startswith('2019')\n",
    "df2019 = data[data2019]\n",
    "mean2019 = df2019['Temp'].mean()\n",
    "print(mean2019)\n"
   ]
  },
  {
   "cell_type": "code",
   "execution_count": 82,
   "id": "b10f6a44",
   "metadata": {},
   "outputs": [
    {
     "name": "stdout",
     "output_type": "stream",
     "text": [
      "8.347814207650272\n"
     ]
    }
   ],
   "source": [
    "data2020 = data[\"Date\"].str.startswith('2020')\n",
    "df2020 = data[data2020]\n",
    "mean2020 = df2020['Temp'].mean()\n",
    "print(mean2020)\n"
   ]
  },
  {
   "cell_type": "code",
   "execution_count": 83,
   "id": "55318d39",
   "metadata": {},
   "outputs": [
    {
     "name": "stdout",
     "output_type": "stream",
     "text": [
      "9.954246575342466\n"
     ]
    }
   ],
   "source": [
    "data2021 = data[\"Date\"].str.startswith('2021')\n",
    "df2021 = data[data2021]\n",
    "mean2021 = df2021['Temp'].mean()\n",
    "print(mean2021)\n"
   ]
  },
  {
   "cell_type": "code",
   "execution_count": 84,
   "id": "e0a61990",
   "metadata": {},
   "outputs": [],
   "source": [
    "years = [i for i in range(1951,2022)]\n",
    "mean_all = [mean1951,mean1952,mean1953,mean1954,mean1955,mean1956,mean1957,mean1958,mean1959,mean1960,mean1961,mean1962,mean1963,mean1964,mean1965,mean1966,mean1967,mean1968,mean1969,mean1970,mean1971,mean1972,mean1973,mean1974,mean1975,mean1976,mean1977,mean1978,mean1979,mean1980,mean1981,mean1982,mean1983,mean1984,mean1985,mean1986,mean1987,mean1988,mean1989,mean1990,mean1991,mean1992,mean1993,mean1994,mean1995,mean1996,mean1997,mean1998,mean1999,mean2000,mean2001,mean2002,mean2003,mean2004,mean2005,mean2006,mean2007,mean2008,mean2009,mean2010,mean2011,mean2012,mean2013,mean2014,mean2015,mean2016,mean2017,mean2018,mean2019,mean2020,mean2021]\n"
   ]
  },
  {
   "cell_type": "code",
   "execution_count": 85,
   "id": "6421f0b6",
   "metadata": {},
   "outputs": [],
   "source": [
    "dict_to_create_df = {'Mean':mean_all}"
   ]
  },
  {
   "cell_type": "code",
   "execution_count": 86,
   "id": "feabbbd2",
   "metadata": {},
   "outputs": [
    {
     "data": {
      "text/html": [
       "<div>\n",
       "<style scoped>\n",
       "    .dataframe tbody tr th:only-of-type {\n",
       "        vertical-align: middle;\n",
       "    }\n",
       "\n",
       "    .dataframe tbody tr th {\n",
       "        vertical-align: top;\n",
       "    }\n",
       "\n",
       "    .dataframe thead th {\n",
       "        text-align: right;\n",
       "    }\n",
       "</style>\n",
       "<table border=\"1\" class=\"dataframe\">\n",
       "  <thead>\n",
       "    <tr style=\"text-align: right;\">\n",
       "      <th></th>\n",
       "      <th>Mean</th>\n",
       "    </tr>\n",
       "  </thead>\n",
       "  <tbody>\n",
       "    <tr>\n",
       "      <th>1951</th>\n",
       "      <td>9.302740</td>\n",
       "    </tr>\n",
       "    <tr>\n",
       "      <th>1952</th>\n",
       "      <td>8.077049</td>\n",
       "    </tr>\n",
       "    <tr>\n",
       "      <th>1953</th>\n",
       "      <td>9.409041</td>\n",
       "    </tr>\n",
       "    <tr>\n",
       "      <th>1954</th>\n",
       "      <td>7.816712</td>\n",
       "    </tr>\n",
       "    <tr>\n",
       "      <th>1955</th>\n",
       "      <td>7.787671</td>\n",
       "    </tr>\n",
       "    <tr>\n",
       "      <th>...</th>\n",
       "      <td>...</td>\n",
       "    </tr>\n",
       "    <tr>\n",
       "      <th>2017</th>\n",
       "      <td>10.578356</td>\n",
       "    </tr>\n",
       "    <tr>\n",
       "      <th>2018</th>\n",
       "      <td>11.403562</td>\n",
       "    </tr>\n",
       "    <tr>\n",
       "      <th>2019</th>\n",
       "      <td>11.569863</td>\n",
       "    </tr>\n",
       "    <tr>\n",
       "      <th>2020</th>\n",
       "      <td>8.347814</td>\n",
       "    </tr>\n",
       "    <tr>\n",
       "      <th>2021</th>\n",
       "      <td>9.954247</td>\n",
       "    </tr>\n",
       "  </tbody>\n",
       "</table>\n",
       "<p>71 rows × 1 columns</p>\n",
       "</div>"
      ],
      "text/plain": [
       "           Mean\n",
       "1951   9.302740\n",
       "1952   8.077049\n",
       "1953   9.409041\n",
       "1954   7.816712\n",
       "1955   7.787671\n",
       "...         ...\n",
       "2017  10.578356\n",
       "2018  11.403562\n",
       "2019  11.569863\n",
       "2020   8.347814\n",
       "2021   9.954247\n",
       "\n",
       "[71 rows x 1 columns]"
      ]
     },
     "execution_count": 86,
     "metadata": {},
     "output_type": "execute_result"
    }
   ],
   "source": [
    "df = pd.DataFrame(dict_to_create_df,index=years)\n",
    "df"
   ]
  },
  {
   "cell_type": "code",
   "execution_count": 87,
   "id": "0113db68",
   "metadata": {
    "scrolled": true
   },
   "outputs": [
    {
     "data": {
      "text/plain": [
       "<AxesSubplot:title={'center':'Mean of mean day temperature in each year in Wroclaw'}, xlabel='Years', ylabel='Temperature'>"
      ]
     },
     "execution_count": 87,
     "metadata": {},
     "output_type": "execute_result"
    },
    {
     "data": {
      "image/png": "[encoded data removed]",
      "text/plain": [
       "<Figure size 1080x360 with 1 Axes>"
      ]
     },
     "metadata": {},
     "output_type": "display_data"
    }
   ],
   "source": [
    "plt.style.use('seaborn-whitegrid')\n",
    "df['Mean'].plot(figsize=(15,5),title='Mean of mean day temperature in each year in Wroclaw',xlabel='Years',ylabel='Temperature',xticks=range(1951,2022,3))"
   ]
  },
  {
   "cell_type": "code",
   "execution_count": 88,
   "id": "8578f8f4",
   "metadata": {},
   "outputs": [],
   "source": [
    "#All years - 1951-2021 mean of mean temperatures"
   ]
  },
  {
   "cell_type": "code",
   "execution_count": 89,
   "id": "898400fa",
   "metadata": {
    "scrolled": true
   },
   "outputs": [
    {
     "data": {
      "text/plain": [
       "8.91207985543322"
      ]
     },
     "execution_count": 89,
     "metadata": {},
     "output_type": "execute_result"
    }
   ],
   "source": [
    "sum(mean_all)/len(mean_all)"
   ]
  },
  {
   "cell_type": "code",
   "execution_count": 90,
   "id": "fcd80163",
   "metadata": {},
   "outputs": [],
   "source": [
    "# Typical year mean - 30 years counted 1971-2000 - according to IMGW should be 8.1"
   ]
  },
  {
   "cell_type": "code",
   "execution_count": 91,
   "id": "0d786bd3",
   "metadata": {},
   "outputs": [
    {
     "data": {
      "text/plain": [
       "8.713364722908402"
      ]
     },
     "execution_count": 91,
     "metadata": {},
     "output_type": "execute_result"
    }
   ],
   "source": [
    "meanList_1971_2000 = [mean1971,mean1972,mean1973,mean1974,mean1975,mean1976,mean1977,mean1978,mean1979,mean1980,mean1981,mean1982,mean1983,mean1984,mean1985,mean1986,mean1987,mean1988,mean1989,mean1990,mean1991,mean1992,mean1993,mean1994,mean1995,mean1996,mean1997,mean1998,mean1999,mean2000]\n",
    "sum(meanList_1971_2000)/len(meanList_1971_2000)"
   ]
  },
  {
   "cell_type": "code",
   "execution_count": 92,
   "id": "687c3463",
   "metadata": {
    "scrolled": true
   },
   "outputs": [],
   "source": [
    "# Mean temperature after 2001"
   ]
  },
  {
   "cell_type": "code",
   "execution_count": 93,
   "id": "b367b0d4",
   "metadata": {},
   "outputs": [
    {
     "data": {
      "text/plain": [
       "9.823042892432067"
      ]
     },
     "execution_count": 93,
     "metadata": {},
     "output_type": "execute_result"
    }
   ],
   "source": [
    "meanList_2001_2021=[mean2001,mean2002,mean2003,mean2004,mean2005,mean2006,mean2007,mean2008,mean2009,mean2010,mean2011,mean2012,mean2013,mean2014,mean2015,mean2016,mean2017,mean2018,mean2019,mean2020,mean2021]\n",
    "sum(meanList_2001_2021)/len(meanList_2001_2021)"
   ]
  }
 ],
 "metadata": {
  "kernelspec": {
   "display_name": "Python 3 (ipykernel)",
   "language": "python",
   "name": "python3"
  },
  "language_info": {
   "codemirror_mode": {
    "name": "ipython",
    "version": 3
   },
   "file_extension": ".py",
   "mimetype": "text/x-python",
   "name": "python",
   "nbconvert_exporter": "python",
   "pygments_lexer": "ipython3",
   "version": "3.9.7"
  }
 },
 "nbformat": 4,
 "nbformat_minor": 5
}
